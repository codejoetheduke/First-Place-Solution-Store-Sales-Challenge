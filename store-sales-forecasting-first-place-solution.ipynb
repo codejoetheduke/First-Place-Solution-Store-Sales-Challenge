{
 "cells": [
  {
   "cell_type": "markdown",
   "id": "23d44259",
   "metadata": {
    "papermill": {
     "duration": 0.00631,
     "end_time": "2025-06-04T19:00:22.730698",
     "exception": false,
     "start_time": "2025-06-04T19:00:22.724388",
     "status": "completed"
    },
    "tags": []
   },
   "source": [
    "# Store Sales Forecasting First Place Solution"
   ]
  },
  {
   "cell_type": "markdown",
   "id": "99863566",
   "metadata": {
    "papermill": {
     "duration": 0.005046,
     "end_time": "2025-06-04T19:00:22.741265",
     "exception": false,
     "start_time": "2025-06-04T19:00:22.736219",
     "status": "completed"
    },
    "tags": []
   },
   "source": [
    "## Introduction"
   ]
  },
  {
   "cell_type": "markdown",
   "id": "ef8fd13b",
   "metadata": {
    "papermill": {
     "duration": 0.005203,
     "end_time": "2025-06-04T19:00:22.751666",
     "exception": false,
     "start_time": "2025-06-04T19:00:22.746463",
     "status": "completed"
    },
    "tags": []
   },
   "source": [
    "In this post, I share the approach behind my first-place solution for the Store Sales Forecasting challenge. The competition required accurately predicting daily sales for multiple stores using historical sales data and additional metadata. My solution combined robust feature engineering and careful validation strategies to achieve top performance. Below, I break down the key components that contributed to the winning result.\n",
    "\n",
    "Let's first import packages."
   ]
  },
  {
   "cell_type": "markdown",
   "id": "3c1cac48",
   "metadata": {
    "papermill": {
     "duration": 0.004985,
     "end_time": "2025-06-04T19:00:22.761951",
     "exception": false,
     "start_time": "2025-06-04T19:00:22.756966",
     "status": "completed"
    },
    "tags": []
   },
   "source": [
    "## Importing Packages"
   ]
  },
  {
   "cell_type": "markdown",
   "id": "37e0ef65",
   "metadata": {
    "papermill": {
     "duration": 0.005315,
     "end_time": "2025-06-04T19:00:22.772408",
     "exception": false,
     "start_time": "2025-06-04T19:00:22.767093",
     "status": "completed"
    },
    "tags": []
   },
   "source": [
    "<div style=\"background-color: #ffcccc; padding: 10px; border-left: 5px solid red;\">\n",
    "  <strong>Note:</strong> If you're not running this on Kaggle or Google Colab, make sure to install the required packages first using <code>pip install</code> before importing them.\n",
    "</div>\n"
   ]
  },
  {
   "cell_type": "code",
   "execution_count": 1,
   "id": "bcebbf55",
   "metadata": {
    "_cell_guid": "b1076dfc-b9ad-4769-8c92-a6c4dae69d19",
    "_uuid": "8f2839f25d086af736a60e9eeb907d3b93b6e0e5",
    "execution": {
     "iopub.execute_input": "2025-06-04T19:00:22.783653Z",
     "iopub.status.busy": "2025-06-04T19:00:22.783418Z",
     "iopub.status.idle": "2025-06-04T19:00:29.947256Z",
     "shell.execute_reply": "2025-06-04T19:00:29.946660Z"
    },
    "papermill": {
     "duration": 7.171076,
     "end_time": "2025-06-04T19:00:29.948621",
     "exception": false,
     "start_time": "2025-06-04T19:00:22.777545",
     "status": "completed"
    },
    "tags": []
   },
   "outputs": [],
   "source": [
    "# Basic Libraries\n",
    "import os  # Interact with the operating system (e.g., file paths, directories)\n",
    "from pathlib import Path  # Easier and more readable file path handling\n",
    "import warnings  # To manage warnings in Python\n",
    "warnings.filterwarnings('ignore')  # Hide warnings to keep output clean\n",
    "\n",
    "# Data Handling\n",
    "import numpy as np  # Useful for numerical operations and handling arrays\n",
    "import pandas as pd  # For working with data tables (e.g., reading CSV files, dataframes)\n",
    "\n",
    "# Data Visualization\n",
    "import matplotlib.pyplot as plt  # Create basic plots like line, bar, scatter\n",
    "import seaborn as sns  # Build attractive and informative statistical plots\n",
    "\n",
    "# Machine Learning Tools\n",
    "from sklearn.model_selection import KFold  # Split data into folds for cross-validation\n",
    "from sklearn.metrics import mean_squared_error  # Measure prediction error\n",
    "\n",
    "# Machine Learning Model\n",
    "import lightgbm as lgb  # A fast and powerful gradient boosting framework\n",
    "\n",
    "# Additional Utilities\n",
    "import statistics  # Perform basic statistical calculations (mean, median, etc.)"
   ]
  },
  {
   "cell_type": "markdown",
   "id": "f3372191",
   "metadata": {
    "papermill": {
     "duration": 0.005252,
     "end_time": "2025-06-04T19:00:29.959649",
     "exception": false,
     "start_time": "2025-06-04T19:00:29.954397",
     "status": "completed"
    },
    "tags": []
   },
   "source": [
    "Let's load our Data with pathlib's Path and pandas."
   ]
  },
  {
   "cell_type": "code",
   "execution_count": 2,
   "id": "a4455159",
   "metadata": {
    "execution": {
     "iopub.execute_input": "2025-06-04T19:00:29.971158Z",
     "iopub.status.busy": "2025-06-04T19:00:29.970675Z",
     "iopub.status.idle": "2025-06-04T19:00:29.974028Z",
     "shell.execute_reply": "2025-06-04T19:00:29.973551Z"
    },
    "papermill": {
     "duration": 0.010173,
     "end_time": "2025-06-04T19:00:29.975122",
     "exception": false,
     "start_time": "2025-06-04T19:00:29.964949",
     "status": "completed"
    },
    "tags": []
   },
   "outputs": [],
   "source": [
    "DATA = Path('/kaggle/input/store-sales-forecasting-challenge-for-beginners/store-sales-forecasting-challenge-for-beginners/')"
   ]
  },
  {
   "cell_type": "code",
   "execution_count": 3,
   "id": "95039899",
   "metadata": {
    "execution": {
     "iopub.execute_input": "2025-06-04T19:00:29.986413Z",
     "iopub.status.busy": "2025-06-04T19:00:29.986197Z",
     "iopub.status.idle": "2025-06-04T19:00:31.993335Z",
     "shell.execute_reply": "2025-06-04T19:00:31.992696Z"
    },
    "papermill": {
     "duration": 2.014226,
     "end_time": "2025-06-04T19:00:31.994616",
     "exception": false,
     "start_time": "2025-06-04T19:00:29.980390",
     "status": "completed"
    },
    "tags": []
   },
   "outputs": [],
   "source": [
    "train = pd.read_csv(DATA / 'train.csv')\n",
    "test = pd.read_csv(DATA / 'test.csv')\n",
    "dates = pd.read_csv(DATA / 'dates.csv')\n",
    "holidays = pd.read_csv(DATA / 'holidays.csv')\n",
    "stores = pd.read_csv(DATA / 'stores.csv')\n",
    "ss = pd.read_csv(DATA / 'SampleSubmission.csv')"
   ]
  },
  {
   "cell_type": "markdown",
   "id": "fb5990be",
   "metadata": {
    "papermill": {
     "duration": 0.005349,
     "end_time": "2025-06-04T19:00:32.005620",
     "exception": false,
     "start_time": "2025-06-04T19:00:32.000271",
     "status": "completed"
    },
    "tags": []
   },
   "source": [
    "<div style=\"background-color: lightgreen; padding: 10px; border-left: 5px solid green;\">\n",
    "  <strong>Note:</strong> One of the most important thing to do is it familiarize yourself with the Data (VERY IMPORTANT)\n",
    "</div>\n"
   ]
  },
  {
   "cell_type": "markdown",
   "id": "58f187a3",
   "metadata": {
    "papermill": {
     "duration": 0.004982,
     "end_time": "2025-06-04T19:00:32.015931",
     "exception": false,
     "start_time": "2025-06-04T19:00:32.010949",
     "status": "completed"
    },
    "tags": []
   },
   "source": [
    "Let's explore the data now! 🔥"
   ]
  },
  {
   "cell_type": "code",
   "execution_count": 4,
   "id": "078b44d2",
   "metadata": {
    "execution": {
     "iopub.execute_input": "2025-06-04T19:00:32.027795Z",
     "iopub.status.busy": "2025-06-04T19:00:32.027375Z",
     "iopub.status.idle": "2025-06-04T19:00:32.047545Z",
     "shell.execute_reply": "2025-06-04T19:00:32.046937Z"
    },
    "papermill": {
     "duration": 0.02736,
     "end_time": "2025-06-04T19:00:32.048603",
     "exception": false,
     "start_time": "2025-06-04T19:00:32.021243",
     "status": "completed"
    },
    "tags": []
   },
   "outputs": [
    {
     "data": {
      "text/html": [
       "<div>\n",
       "<style scoped>\n",
       "    .dataframe tbody tr th:only-of-type {\n",
       "        vertical-align: middle;\n",
       "    }\n",
       "\n",
       "    .dataframe tbody tr th {\n",
       "        vertical-align: top;\n",
       "    }\n",
       "\n",
       "    .dataframe thead th {\n",
       "        text-align: right;\n",
       "    }\n",
       "</style>\n",
       "<table border=\"1\" class=\"dataframe\">\n",
       "  <thead>\n",
       "    <tr style=\"text-align: right;\">\n",
       "      <th></th>\n",
       "      <th>date</th>\n",
       "      <th>store_id</th>\n",
       "      <th>category_id</th>\n",
       "      <th>target</th>\n",
       "      <th>onpromotion</th>\n",
       "      <th>nbr_of_transactions</th>\n",
       "    </tr>\n",
       "  </thead>\n",
       "  <tbody>\n",
       "    <tr>\n",
       "      <th>0</th>\n",
       "      <td>365</td>\n",
       "      <td>store_1</td>\n",
       "      <td>category_24</td>\n",
       "      <td>0.0</td>\n",
       "      <td>0</td>\n",
       "      <td>0.0</td>\n",
       "    </tr>\n",
       "    <tr>\n",
       "      <th>1</th>\n",
       "      <td>365</td>\n",
       "      <td>store_1</td>\n",
       "      <td>category_21</td>\n",
       "      <td>0.0</td>\n",
       "      <td>0</td>\n",
       "      <td>0.0</td>\n",
       "    </tr>\n",
       "    <tr>\n",
       "      <th>2</th>\n",
       "      <td>365</td>\n",
       "      <td>store_1</td>\n",
       "      <td>category_32</td>\n",
       "      <td>0.0</td>\n",
       "      <td>0</td>\n",
       "      <td>0.0</td>\n",
       "    </tr>\n",
       "    <tr>\n",
       "      <th>3</th>\n",
       "      <td>365</td>\n",
       "      <td>store_1</td>\n",
       "      <td>category_18</td>\n",
       "      <td>0.0</td>\n",
       "      <td>0</td>\n",
       "      <td>0.0</td>\n",
       "    </tr>\n",
       "    <tr>\n",
       "      <th>4</th>\n",
       "      <td>365</td>\n",
       "      <td>store_1</td>\n",
       "      <td>category_26</td>\n",
       "      <td>0.0</td>\n",
       "      <td>0</td>\n",
       "      <td>0.0</td>\n",
       "    </tr>\n",
       "  </tbody>\n",
       "</table>\n",
       "</div>"
      ],
      "text/plain": [
       "   date store_id  category_id  target  onpromotion  nbr_of_transactions\n",
       "0   365  store_1  category_24     0.0            0                  0.0\n",
       "1   365  store_1  category_21     0.0            0                  0.0\n",
       "2   365  store_1  category_32     0.0            0                  0.0\n",
       "3   365  store_1  category_18     0.0            0                  0.0\n",
       "4   365  store_1  category_26     0.0            0                  0.0"
      ]
     },
     "execution_count": 4,
     "metadata": {},
     "output_type": "execute_result"
    }
   ],
   "source": [
    "train.head()"
   ]
  },
  {
   "cell_type": "code",
   "execution_count": 5,
   "id": "815da51e",
   "metadata": {
    "execution": {
     "iopub.execute_input": "2025-06-04T19:00:32.060213Z",
     "iopub.status.busy": "2025-06-04T19:00:32.060020Z",
     "iopub.status.idle": "2025-06-04T19:00:32.070613Z",
     "shell.execute_reply": "2025-06-04T19:00:32.070011Z"
    },
    "papermill": {
     "duration": 0.017514,
     "end_time": "2025-06-04T19:00:32.071581",
     "exception": false,
     "start_time": "2025-06-04T19:00:32.054067",
     "status": "completed"
    },
    "tags": []
   },
   "outputs": [
    {
     "data": {
      "text/html": [
       "<div>\n",
       "<style scoped>\n",
       "    .dataframe tbody tr th:only-of-type {\n",
       "        vertical-align: middle;\n",
       "    }\n",
       "\n",
       "    .dataframe tbody tr th {\n",
       "        vertical-align: top;\n",
       "    }\n",
       "\n",
       "    .dataframe thead th {\n",
       "        text-align: right;\n",
       "    }\n",
       "</style>\n",
       "<table border=\"1\" class=\"dataframe\">\n",
       "  <thead>\n",
       "    <tr style=\"text-align: right;\">\n",
       "      <th></th>\n",
       "      <th>date</th>\n",
       "      <th>year</th>\n",
       "      <th>month</th>\n",
       "      <th>dayofmonth</th>\n",
       "      <th>dayofweek</th>\n",
       "      <th>dayofyear</th>\n",
       "      <th>weekofyear</th>\n",
       "      <th>quarter</th>\n",
       "      <th>is_month_start</th>\n",
       "      <th>is_month_end</th>\n",
       "      <th>is_quarter_start</th>\n",
       "      <th>is_quarter_end</th>\n",
       "      <th>is_year_start</th>\n",
       "      <th>is_year_end</th>\n",
       "      <th>year_weekofyear</th>\n",
       "    </tr>\n",
       "  </thead>\n",
       "  <tbody>\n",
       "    <tr>\n",
       "      <th>0</th>\n",
       "      <td>365</td>\n",
       "      <td>1</td>\n",
       "      <td>1</td>\n",
       "      <td>1</td>\n",
       "      <td>2</td>\n",
       "      <td>1</td>\n",
       "      <td>1</td>\n",
       "      <td>1</td>\n",
       "      <td>True</td>\n",
       "      <td>False</td>\n",
       "      <td>True</td>\n",
       "      <td>False</td>\n",
       "      <td>True</td>\n",
       "      <td>False</td>\n",
       "      <td>101</td>\n",
       "    </tr>\n",
       "    <tr>\n",
       "      <th>1</th>\n",
       "      <td>366</td>\n",
       "      <td>1</td>\n",
       "      <td>1</td>\n",
       "      <td>2</td>\n",
       "      <td>3</td>\n",
       "      <td>2</td>\n",
       "      <td>1</td>\n",
       "      <td>1</td>\n",
       "      <td>False</td>\n",
       "      <td>False</td>\n",
       "      <td>False</td>\n",
       "      <td>False</td>\n",
       "      <td>False</td>\n",
       "      <td>False</td>\n",
       "      <td>101</td>\n",
       "    </tr>\n",
       "    <tr>\n",
       "      <th>2</th>\n",
       "      <td>367</td>\n",
       "      <td>1</td>\n",
       "      <td>1</td>\n",
       "      <td>3</td>\n",
       "      <td>4</td>\n",
       "      <td>3</td>\n",
       "      <td>1</td>\n",
       "      <td>1</td>\n",
       "      <td>False</td>\n",
       "      <td>False</td>\n",
       "      <td>False</td>\n",
       "      <td>False</td>\n",
       "      <td>False</td>\n",
       "      <td>False</td>\n",
       "      <td>101</td>\n",
       "    </tr>\n",
       "    <tr>\n",
       "      <th>3</th>\n",
       "      <td>368</td>\n",
       "      <td>1</td>\n",
       "      <td>1</td>\n",
       "      <td>4</td>\n",
       "      <td>5</td>\n",
       "      <td>4</td>\n",
       "      <td>1</td>\n",
       "      <td>1</td>\n",
       "      <td>False</td>\n",
       "      <td>False</td>\n",
       "      <td>False</td>\n",
       "      <td>False</td>\n",
       "      <td>False</td>\n",
       "      <td>False</td>\n",
       "      <td>101</td>\n",
       "    </tr>\n",
       "    <tr>\n",
       "      <th>4</th>\n",
       "      <td>369</td>\n",
       "      <td>1</td>\n",
       "      <td>1</td>\n",
       "      <td>5</td>\n",
       "      <td>6</td>\n",
       "      <td>5</td>\n",
       "      <td>1</td>\n",
       "      <td>1</td>\n",
       "      <td>False</td>\n",
       "      <td>False</td>\n",
       "      <td>False</td>\n",
       "      <td>False</td>\n",
       "      <td>False</td>\n",
       "      <td>False</td>\n",
       "      <td>101</td>\n",
       "    </tr>\n",
       "  </tbody>\n",
       "</table>\n",
       "</div>"
      ],
      "text/plain": [
       "   date  year  month  dayofmonth  dayofweek  dayofyear  weekofyear  quarter  \\\n",
       "0   365     1      1           1          2          1           1        1   \n",
       "1   366     1      1           2          3          2           1        1   \n",
       "2   367     1      1           3          4          3           1        1   \n",
       "3   368     1      1           4          5          4           1        1   \n",
       "4   369     1      1           5          6          5           1        1   \n",
       "\n",
       "   is_month_start  is_month_end  is_quarter_start  is_quarter_end  \\\n",
       "0            True         False              True           False   \n",
       "1           False         False             False           False   \n",
       "2           False         False             False           False   \n",
       "3           False         False             False           False   \n",
       "4           False         False             False           False   \n",
       "\n",
       "   is_year_start  is_year_end  year_weekofyear  \n",
       "0           True        False              101  \n",
       "1          False        False              101  \n",
       "2          False        False              101  \n",
       "3          False        False              101  \n",
       "4          False        False              101  "
      ]
     },
     "execution_count": 5,
     "metadata": {},
     "output_type": "execute_result"
    }
   ],
   "source": [
    "dates.head()"
   ]
  },
  {
   "cell_type": "code",
   "execution_count": 6,
   "id": "35f95848",
   "metadata": {
    "execution": {
     "iopub.execute_input": "2025-06-04T19:00:32.083562Z",
     "iopub.status.busy": "2025-06-04T19:00:32.083386Z",
     "iopub.status.idle": "2025-06-04T19:00:32.089880Z",
     "shell.execute_reply": "2025-06-04T19:00:32.089336Z"
    },
    "papermill": {
     "duration": 0.013628,
     "end_time": "2025-06-04T19:00:32.090935",
     "exception": false,
     "start_time": "2025-06-04T19:00:32.077307",
     "status": "completed"
    },
    "tags": []
   },
   "outputs": [
    {
     "data": {
      "text/html": [
       "<div>\n",
       "<style scoped>\n",
       "    .dataframe tbody tr th:only-of-type {\n",
       "        vertical-align: middle;\n",
       "    }\n",
       "\n",
       "    .dataframe tbody tr th {\n",
       "        vertical-align: top;\n",
       "    }\n",
       "\n",
       "    .dataframe thead th {\n",
       "        text-align: right;\n",
       "    }\n",
       "</style>\n",
       "<table border=\"1\" class=\"dataframe\">\n",
       "  <thead>\n",
       "    <tr style=\"text-align: right;\">\n",
       "      <th></th>\n",
       "      <th>date</th>\n",
       "      <th>store_id</th>\n",
       "      <th>category_id</th>\n",
       "      <th>onpromotion</th>\n",
       "    </tr>\n",
       "  </thead>\n",
       "  <tbody>\n",
       "    <tr>\n",
       "      <th>0</th>\n",
       "      <td>1627</td>\n",
       "      <td>store_1</td>\n",
       "      <td>category_24</td>\n",
       "      <td>0</td>\n",
       "    </tr>\n",
       "    <tr>\n",
       "      <th>1</th>\n",
       "      <td>1627</td>\n",
       "      <td>store_1</td>\n",
       "      <td>category_21</td>\n",
       "      <td>0</td>\n",
       "    </tr>\n",
       "    <tr>\n",
       "      <th>2</th>\n",
       "      <td>1627</td>\n",
       "      <td>store_1</td>\n",
       "      <td>category_32</td>\n",
       "      <td>0</td>\n",
       "    </tr>\n",
       "    <tr>\n",
       "      <th>3</th>\n",
       "      <td>1627</td>\n",
       "      <td>store_1</td>\n",
       "      <td>category_18</td>\n",
       "      <td>16</td>\n",
       "    </tr>\n",
       "    <tr>\n",
       "      <th>4</th>\n",
       "      <td>1627</td>\n",
       "      <td>store_1</td>\n",
       "      <td>category_26</td>\n",
       "      <td>0</td>\n",
       "    </tr>\n",
       "  </tbody>\n",
       "</table>\n",
       "</div>"
      ],
      "text/plain": [
       "   date store_id  category_id  onpromotion\n",
       "0  1627  store_1  category_24            0\n",
       "1  1627  store_1  category_21            0\n",
       "2  1627  store_1  category_32            0\n",
       "3  1627  store_1  category_18           16\n",
       "4  1627  store_1  category_26            0"
      ]
     },
     "execution_count": 6,
     "metadata": {},
     "output_type": "execute_result"
    }
   ],
   "source": [
    "test.head()"
   ]
  },
  {
   "cell_type": "code",
   "execution_count": 7,
   "id": "c577cd08",
   "metadata": {
    "execution": {
     "iopub.execute_input": "2025-06-04T19:00:32.102818Z",
     "iopub.status.busy": "2025-06-04T19:00:32.102646Z",
     "iopub.status.idle": "2025-06-04T19:00:32.108220Z",
     "shell.execute_reply": "2025-06-04T19:00:32.107584Z"
    },
    "papermill": {
     "duration": 0.012727,
     "end_time": "2025-06-04T19:00:32.109298",
     "exception": false,
     "start_time": "2025-06-04T19:00:32.096571",
     "status": "completed"
    },
    "tags": []
   },
   "outputs": [
    {
     "data": {
      "text/html": [
       "<div>\n",
       "<style scoped>\n",
       "    .dataframe tbody tr th:only-of-type {\n",
       "        vertical-align: middle;\n",
       "    }\n",
       "\n",
       "    .dataframe tbody tr th {\n",
       "        vertical-align: top;\n",
       "    }\n",
       "\n",
       "    .dataframe thead th {\n",
       "        text-align: right;\n",
       "    }\n",
       "</style>\n",
       "<table border=\"1\" class=\"dataframe\">\n",
       "  <thead>\n",
       "    <tr style=\"text-align: right;\">\n",
       "      <th></th>\n",
       "      <th>date</th>\n",
       "      <th>type</th>\n",
       "    </tr>\n",
       "  </thead>\n",
       "  <tbody>\n",
       "    <tr>\n",
       "      <th>0</th>\n",
       "      <td>1</td>\n",
       "      <td>0</td>\n",
       "    </tr>\n",
       "    <tr>\n",
       "      <th>1</th>\n",
       "      <td>5</td>\n",
       "      <td>4</td>\n",
       "    </tr>\n",
       "    <tr>\n",
       "      <th>2</th>\n",
       "      <td>12</td>\n",
       "      <td>4</td>\n",
       "    </tr>\n",
       "    <tr>\n",
       "      <th>3</th>\n",
       "      <td>42</td>\n",
       "      <td>0</td>\n",
       "    </tr>\n",
       "    <tr>\n",
       "      <th>4</th>\n",
       "      <td>43</td>\n",
       "      <td>0</td>\n",
       "    </tr>\n",
       "  </tbody>\n",
       "</table>\n",
       "</div>"
      ],
      "text/plain": [
       "   date  type\n",
       "0     1     0\n",
       "1     5     4\n",
       "2    12     4\n",
       "3    42     0\n",
       "4    43     0"
      ]
     },
     "execution_count": 7,
     "metadata": {},
     "output_type": "execute_result"
    }
   ],
   "source": [
    "holidays.head()"
   ]
  },
  {
   "cell_type": "code",
   "execution_count": 8,
   "id": "732ddd7b",
   "metadata": {
    "execution": {
     "iopub.execute_input": "2025-06-04T19:00:32.121316Z",
     "iopub.status.busy": "2025-06-04T19:00:32.121112Z",
     "iopub.status.idle": "2025-06-04T19:00:32.127490Z",
     "shell.execute_reply": "2025-06-04T19:00:32.126879Z"
    },
    "papermill": {
     "duration": 0.01355,
     "end_time": "2025-06-04T19:00:32.128574",
     "exception": false,
     "start_time": "2025-06-04T19:00:32.115024",
     "status": "completed"
    },
    "tags": []
   },
   "outputs": [
    {
     "data": {
      "text/html": [
       "<div>\n",
       "<style scoped>\n",
       "    .dataframe tbody tr th:only-of-type {\n",
       "        vertical-align: middle;\n",
       "    }\n",
       "\n",
       "    .dataframe tbody tr th {\n",
       "        vertical-align: top;\n",
       "    }\n",
       "\n",
       "    .dataframe thead th {\n",
       "        text-align: right;\n",
       "    }\n",
       "</style>\n",
       "<table border=\"1\" class=\"dataframe\">\n",
       "  <thead>\n",
       "    <tr style=\"text-align: right;\">\n",
       "      <th></th>\n",
       "      <th>store_id</th>\n",
       "      <th>city</th>\n",
       "      <th>type</th>\n",
       "      <th>cluster</th>\n",
       "    </tr>\n",
       "  </thead>\n",
       "  <tbody>\n",
       "    <tr>\n",
       "      <th>0</th>\n",
       "      <td>store_1</td>\n",
       "      <td>0</td>\n",
       "      <td>0</td>\n",
       "      <td>0</td>\n",
       "    </tr>\n",
       "    <tr>\n",
       "      <th>1</th>\n",
       "      <td>store_2</td>\n",
       "      <td>0</td>\n",
       "      <td>0</td>\n",
       "      <td>0</td>\n",
       "    </tr>\n",
       "    <tr>\n",
       "      <th>2</th>\n",
       "      <td>store_3</td>\n",
       "      <td>0</td>\n",
       "      <td>0</td>\n",
       "      <td>1</td>\n",
       "    </tr>\n",
       "    <tr>\n",
       "      <th>3</th>\n",
       "      <td>store_4</td>\n",
       "      <td>0</td>\n",
       "      <td>0</td>\n",
       "      <td>2</td>\n",
       "    </tr>\n",
       "    <tr>\n",
       "      <th>4</th>\n",
       "      <td>store_5</td>\n",
       "      <td>1</td>\n",
       "      <td>0</td>\n",
       "      <td>3</td>\n",
       "    </tr>\n",
       "  </tbody>\n",
       "</table>\n",
       "</div>"
      ],
      "text/plain": [
       "  store_id  city  type  cluster\n",
       "0  store_1     0     0        0\n",
       "1  store_2     0     0        0\n",
       "2  store_3     0     0        1\n",
       "3  store_4     0     0        2\n",
       "4  store_5     1     0        3"
      ]
     },
     "execution_count": 8,
     "metadata": {},
     "output_type": "execute_result"
    }
   ],
   "source": [
    "stores.head()"
   ]
  },
  {
   "cell_type": "markdown",
   "id": "eec2de7c",
   "metadata": {
    "papermill": {
     "duration": 0.005656,
     "end_time": "2025-06-04T19:00:32.140651",
     "exception": false,
     "start_time": "2025-06-04T19:00:32.134995",
     "status": "completed"
    },
    "tags": []
   },
   "source": [
    "What do you think? 🤔\n",
    "\n",
    "Well Let me guess? We should merge the datasets and yes, that's the answer. So let's do that😜"
   ]
  },
  {
   "cell_type": "markdown",
   "id": "adff674a",
   "metadata": {
    "papermill": {
     "duration": 0.005643,
     "end_time": "2025-06-04T19:00:32.152000",
     "exception": false,
     "start_time": "2025-06-04T19:00:32.146357",
     "status": "completed"
    },
    "tags": []
   },
   "source": [
    "## Merge the Datasets"
   ]
  },
  {
   "cell_type": "markdown",
   "id": "98b1465e",
   "metadata": {
    "papermill": {
     "duration": 0.00578,
     "end_time": "2025-06-04T19:00:32.163565",
     "exception": false,
     "start_time": "2025-06-04T19:00:32.157785",
     "status": "completed"
    },
    "tags": []
   },
   "source": [
    "We are going to use pandas' <code>merge()</code> and we will merge on dates and store_id. You will know this when we go through the data."
   ]
  },
  {
   "cell_type": "code",
   "execution_count": 9,
   "id": "45320f59",
   "metadata": {
    "execution": {
     "iopub.execute_input": "2025-06-04T19:00:32.177037Z",
     "iopub.status.busy": "2025-06-04T19:00:32.176799Z",
     "iopub.status.idle": "2025-06-04T19:00:32.449875Z",
     "shell.execute_reply": "2025-06-04T19:00:32.449119Z"
    },
    "papermill": {
     "duration": 0.281919,
     "end_time": "2025-06-04T19:00:32.451805",
     "exception": false,
     "start_time": "2025-06-04T19:00:32.169886",
     "status": "completed"
    },
    "tags": []
   },
   "outputs": [],
   "source": [
    "# Merge on 'date'\n",
    "merged_train = pd.merge(train, dates, on=\"date\", how=\"left\")\n",
    "merged_test = pd.merge(test, dates, on=\"date\", how=\"left\")"
   ]
  },
  {
   "cell_type": "code",
   "execution_count": 10,
   "id": "16fbba46",
   "metadata": {
    "execution": {
     "iopub.execute_input": "2025-06-04T19:00:32.466060Z",
     "iopub.status.busy": "2025-06-04T19:00:32.465585Z",
     "iopub.status.idle": "2025-06-04T19:00:33.025700Z",
     "shell.execute_reply": "2025-06-04T19:00:33.024850Z"
    },
    "papermill": {
     "duration": 0.568116,
     "end_time": "2025-06-04T19:00:33.027145",
     "exception": false,
     "start_time": "2025-06-04T19:00:32.459029",
     "status": "completed"
    },
    "tags": []
   },
   "outputs": [],
   "source": [
    "# Merge on 'store_id'\n",
    "merged_train = pd.merge(merged_train, stores, on=\"store_id\", how=\"left\")\n",
    "merged_test = pd.merge(merged_test, stores, on=\"store_id\", how=\"left\")"
   ]
  },
  {
   "cell_type": "markdown",
   "id": "e122aeaa",
   "metadata": {
    "papermill": {
     "duration": 0.046456,
     "end_time": "2025-06-04T19:00:33.079938",
     "exception": false,
     "start_time": "2025-06-04T19:00:33.033482",
     "status": "completed"
    },
    "tags": []
   },
   "source": [
    "## Feature Engineering"
   ]
  },
  {
   "cell_type": "markdown",
   "id": "aa4b5223",
   "metadata": {
    "papermill": {
     "duration": 0.005677,
     "end_time": "2025-06-04T19:00:33.091552",
     "exception": false,
     "start_time": "2025-06-04T19:00:33.085875",
     "status": "completed"
    },
    "tags": []
   },
   "source": [
    "Actually feature engineering is very necessary so let's create a weekend feature. It makes sense weekends can definitely affect the sales in a store."
   ]
  },
  {
   "cell_type": "code",
   "execution_count": 11,
   "id": "8050db1f",
   "metadata": {
    "execution": {
     "iopub.execute_input": "2025-06-04T19:00:33.104505Z",
     "iopub.status.busy": "2025-06-04T19:00:33.104071Z",
     "iopub.status.idle": "2025-06-04T19:00:33.132947Z",
     "shell.execute_reply": "2025-06-04T19:00:33.132108Z"
    },
    "papermill": {
     "duration": 0.036781,
     "end_time": "2025-06-04T19:00:33.134313",
     "exception": false,
     "start_time": "2025-06-04T19:00:33.097532",
     "status": "completed"
    },
    "tags": []
   },
   "outputs": [],
   "source": [
    "merged_train[\"is_weekend\"] = merged_train[\"dayofweek\"].isin([5, 6]).astype(int)\n",
    "merged_test[\"is_weekend\"] = merged_test[\"dayofweek\"].isin([5, 6]).astype(int)"
   ]
  },
  {
   "cell_type": "markdown",
   "id": "bed752d5",
   "metadata": {
    "papermill": {
     "duration": 0.005714,
     "end_time": "2025-06-04T19:00:33.146261",
     "exception": false,
     "start_time": "2025-06-04T19:00:33.140547",
     "status": "completed"
    },
    "tags": []
   },
   "source": [
    "## More on Explorative Data Analysis"
   ]
  },
  {
   "cell_type": "code",
   "execution_count": 12,
   "id": "15f1b465",
   "metadata": {
    "execution": {
     "iopub.execute_input": "2025-06-04T19:00:33.159171Z",
     "iopub.status.busy": "2025-06-04T19:00:33.158546Z",
     "iopub.status.idle": "2025-06-04T19:00:33.172018Z",
     "shell.execute_reply": "2025-06-04T19:00:33.171353Z"
    },
    "papermill": {
     "duration": 0.020955,
     "end_time": "2025-06-04T19:00:33.173036",
     "exception": false,
     "start_time": "2025-06-04T19:00:33.152081",
     "status": "completed"
    },
    "tags": []
   },
   "outputs": [
    {
     "name": "stdout",
     "output_type": "stream",
     "text": [
      "<class 'pandas.core.frame.DataFrame'>\n",
      "RangeIndex: 2248884 entries, 0 to 2248883\n",
      "Data columns (total 24 columns):\n",
      " #   Column               Dtype  \n",
      "---  ------               -----  \n",
      " 0   date                 int64  \n",
      " 1   store_id             object \n",
      " 2   category_id          object \n",
      " 3   target               float64\n",
      " 4   onpromotion          int64  \n",
      " 5   nbr_of_transactions  float64\n",
      " 6   year                 int64  \n",
      " 7   month                int64  \n",
      " 8   dayofmonth           int64  \n",
      " 9   dayofweek            int64  \n",
      " 10  dayofyear            int64  \n",
      " 11  weekofyear           int64  \n",
      " 12  quarter              int64  \n",
      " 13  is_month_start       bool   \n",
      " 14  is_month_end         bool   \n",
      " 15  is_quarter_start     bool   \n",
      " 16  is_quarter_end       bool   \n",
      " 17  is_year_start        bool   \n",
      " 18  is_year_end          bool   \n",
      " 19  year_weekofyear      int64  \n",
      " 20  city                 int64  \n",
      " 21  type                 int64  \n",
      " 22  cluster              int64  \n",
      " 23  is_weekend           int64  \n",
      "dtypes: bool(6), float64(2), int64(14), object(2)\n",
      "memory usage: 321.7+ MB\n"
     ]
    }
   ],
   "source": [
    "merged_train.info()"
   ]
  },
  {
   "cell_type": "code",
   "execution_count": 13,
   "id": "2b616054",
   "metadata": {
    "execution": {
     "iopub.execute_input": "2025-06-04T19:00:33.185908Z",
     "iopub.status.busy": "2025-06-04T19:00:33.185547Z",
     "iopub.status.idle": "2025-06-04T19:00:33.206123Z",
     "shell.execute_reply": "2025-06-04T19:00:33.205313Z"
    },
    "papermill": {
     "duration": 0.028265,
     "end_time": "2025-06-04T19:00:33.207362",
     "exception": false,
     "start_time": "2025-06-04T19:00:33.179097",
     "status": "completed"
    },
    "tags": []
   },
   "outputs": [
    {
     "name": "stdout",
     "output_type": "stream",
     "text": [
      "<class 'pandas.core.frame.DataFrame'>\n",
      "RangeIndex: 99792 entries, 0 to 99791\n",
      "Data columns (total 22 columns):\n",
      " #   Column            Non-Null Count  Dtype \n",
      "---  ------            --------------  ----- \n",
      " 0   date              99792 non-null  int64 \n",
      " 1   store_id          99792 non-null  object\n",
      " 2   category_id       99792 non-null  object\n",
      " 3   onpromotion       99792 non-null  int64 \n",
      " 4   year              99792 non-null  int64 \n",
      " 5   month             99792 non-null  int64 \n",
      " 6   dayofmonth        99792 non-null  int64 \n",
      " 7   dayofweek         99792 non-null  int64 \n",
      " 8   dayofyear         99792 non-null  int64 \n",
      " 9   weekofyear        99792 non-null  int64 \n",
      " 10  quarter           99792 non-null  int64 \n",
      " 11  is_month_start    99792 non-null  bool  \n",
      " 12  is_month_end      99792 non-null  bool  \n",
      " 13  is_quarter_start  99792 non-null  bool  \n",
      " 14  is_quarter_end    99792 non-null  bool  \n",
      " 15  is_year_start     99792 non-null  bool  \n",
      " 16  is_year_end       99792 non-null  bool  \n",
      " 17  year_weekofyear   99792 non-null  int64 \n",
      " 18  city              99792 non-null  int64 \n",
      " 19  type              99792 non-null  int64 \n",
      " 20  cluster           99792 non-null  int64 \n",
      " 21  is_weekend        99792 non-null  int64 \n",
      "dtypes: bool(6), int64(14), object(2)\n",
      "memory usage: 12.8+ MB\n"
     ]
    }
   ],
   "source": [
    "merged_test.info()"
   ]
  },
  {
   "cell_type": "code",
   "execution_count": 14,
   "id": "984150ad",
   "metadata": {
    "execution": {
     "iopub.execute_input": "2025-06-04T19:00:33.221446Z",
     "iopub.status.busy": "2025-06-04T19:00:33.221047Z",
     "iopub.status.idle": "2025-06-04T19:00:33.464111Z",
     "shell.execute_reply": "2025-06-04T19:00:33.463441Z"
    },
    "papermill": {
     "duration": 0.250846,
     "end_time": "2025-06-04T19:00:33.465249",
     "exception": false,
     "start_time": "2025-06-04T19:00:33.214403",
     "status": "completed"
    },
    "tags": []
   },
   "outputs": [
    {
     "data": {
      "text/plain": [
       "date                   0\n",
       "store_id               0\n",
       "category_id            0\n",
       "target                 0\n",
       "onpromotion            0\n",
       "nbr_of_transactions    0\n",
       "year                   0\n",
       "month                  0\n",
       "dayofmonth             0\n",
       "dayofweek              0\n",
       "dayofyear              0\n",
       "weekofyear             0\n",
       "quarter                0\n",
       "is_month_start         0\n",
       "is_month_end           0\n",
       "is_quarter_start       0\n",
       "is_quarter_end         0\n",
       "is_year_start          0\n",
       "is_year_end            0\n",
       "year_weekofyear        0\n",
       "city                   0\n",
       "type                   0\n",
       "cluster                0\n",
       "is_weekend             0\n",
       "dtype: int64"
      ]
     },
     "execution_count": 14,
     "metadata": {},
     "output_type": "execute_result"
    }
   ],
   "source": [
    "# Check for Null values\n",
    "merged_train.isnull().sum()"
   ]
  },
  {
   "cell_type": "code",
   "execution_count": 15,
   "id": "4effb025",
   "metadata": {
    "execution": {
     "iopub.execute_input": "2025-06-04T19:00:33.478634Z",
     "iopub.status.busy": "2025-06-04T19:00:33.478419Z",
     "iopub.status.idle": "2025-06-04T19:00:33.495997Z",
     "shell.execute_reply": "2025-06-04T19:00:33.495345Z"
    },
    "papermill": {
     "duration": 0.025283,
     "end_time": "2025-06-04T19:00:33.497019",
     "exception": false,
     "start_time": "2025-06-04T19:00:33.471736",
     "status": "completed"
    },
    "tags": []
   },
   "outputs": [
    {
     "data": {
      "text/plain": [
       "date                0\n",
       "store_id            0\n",
       "category_id         0\n",
       "onpromotion         0\n",
       "year                0\n",
       "month               0\n",
       "dayofmonth          0\n",
       "dayofweek           0\n",
       "dayofyear           0\n",
       "weekofyear          0\n",
       "quarter             0\n",
       "is_month_start      0\n",
       "is_month_end        0\n",
       "is_quarter_start    0\n",
       "is_quarter_end      0\n",
       "is_year_start       0\n",
       "is_year_end         0\n",
       "year_weekofyear     0\n",
       "city                0\n",
       "type                0\n",
       "cluster             0\n",
       "is_weekend          0\n",
       "dtype: int64"
      ]
     },
     "execution_count": 15,
     "metadata": {},
     "output_type": "execute_result"
    }
   ],
   "source": [
    "# Check for Null values\n",
    "merged_test.isnull().sum()"
   ]
  },
  {
   "cell_type": "markdown",
   "id": "d69ca753",
   "metadata": {
    "papermill": {
     "duration": 0.006054,
     "end_time": "2025-06-04T19:00:33.509497",
     "exception": false,
     "start_time": "2025-06-04T19:00:33.503443",
     "status": "completed"
    },
    "tags": []
   },
   "source": [
    "From this, there is no null value and the date ranges for 3 and half years (I think🤔, never mind😂)\n",
    "\n",
    "You can see it here:\n",
    "\n",
    "<div style=\"background-color: lightgreen; padding: 10px; border-left: 5px solid green;\">\n",
    "The train set contains transaction information for 3 years and 6 months. You are tasked with forecasting the next 8 weeks for the same stores and same products.\n",
    "</div>"
   ]
  },
  {
   "cell_type": "code",
   "execution_count": 16,
   "id": "5093cb6e",
   "metadata": {
    "execution": {
     "iopub.execute_input": "2025-06-04T19:00:33.522483Z",
     "iopub.status.busy": "2025-06-04T19:00:33.522265Z",
     "iopub.status.idle": "2025-06-04T19:00:33.537908Z",
     "shell.execute_reply": "2025-06-04T19:00:33.537223Z"
    },
    "papermill": {
     "duration": 0.023441,
     "end_time": "2025-06-04T19:00:33.539039",
     "exception": false,
     "start_time": "2025-06-04T19:00:33.515598",
     "status": "completed"
    },
    "tags": []
   },
   "outputs": [
    {
     "data": {
      "text/html": [
       "<div>\n",
       "<style scoped>\n",
       "    .dataframe tbody tr th:only-of-type {\n",
       "        vertical-align: middle;\n",
       "    }\n",
       "\n",
       "    .dataframe tbody tr th {\n",
       "        vertical-align: top;\n",
       "    }\n",
       "\n",
       "    .dataframe thead th {\n",
       "        text-align: right;\n",
       "    }\n",
       "</style>\n",
       "<table border=\"1\" class=\"dataframe\">\n",
       "  <thead>\n",
       "    <tr style=\"text-align: right;\">\n",
       "      <th></th>\n",
       "      <th>date</th>\n",
       "      <th>store_id</th>\n",
       "      <th>category_id</th>\n",
       "      <th>target</th>\n",
       "      <th>onpromotion</th>\n",
       "      <th>nbr_of_transactions</th>\n",
       "      <th>year</th>\n",
       "      <th>month</th>\n",
       "      <th>dayofmonth</th>\n",
       "      <th>dayofweek</th>\n",
       "      <th>...</th>\n",
       "      <th>is_month_end</th>\n",
       "      <th>is_quarter_start</th>\n",
       "      <th>is_quarter_end</th>\n",
       "      <th>is_year_start</th>\n",
       "      <th>is_year_end</th>\n",
       "      <th>year_weekofyear</th>\n",
       "      <th>city</th>\n",
       "      <th>type</th>\n",
       "      <th>cluster</th>\n",
       "      <th>is_weekend</th>\n",
       "    </tr>\n",
       "  </thead>\n",
       "  <tbody>\n",
       "    <tr>\n",
       "      <th>0</th>\n",
       "      <td>365</td>\n",
       "      <td>store_1</td>\n",
       "      <td>category_24</td>\n",
       "      <td>0.0</td>\n",
       "      <td>0</td>\n",
       "      <td>0.0</td>\n",
       "      <td>1</td>\n",
       "      <td>1</td>\n",
       "      <td>1</td>\n",
       "      <td>2</td>\n",
       "      <td>...</td>\n",
       "      <td>False</td>\n",
       "      <td>True</td>\n",
       "      <td>False</td>\n",
       "      <td>True</td>\n",
       "      <td>False</td>\n",
       "      <td>101</td>\n",
       "      <td>0</td>\n",
       "      <td>0</td>\n",
       "      <td>0</td>\n",
       "      <td>0</td>\n",
       "    </tr>\n",
       "    <tr>\n",
       "      <th>1</th>\n",
       "      <td>365</td>\n",
       "      <td>store_1</td>\n",
       "      <td>category_21</td>\n",
       "      <td>0.0</td>\n",
       "      <td>0</td>\n",
       "      <td>0.0</td>\n",
       "      <td>1</td>\n",
       "      <td>1</td>\n",
       "      <td>1</td>\n",
       "      <td>2</td>\n",
       "      <td>...</td>\n",
       "      <td>False</td>\n",
       "      <td>True</td>\n",
       "      <td>False</td>\n",
       "      <td>True</td>\n",
       "      <td>False</td>\n",
       "      <td>101</td>\n",
       "      <td>0</td>\n",
       "      <td>0</td>\n",
       "      <td>0</td>\n",
       "      <td>0</td>\n",
       "    </tr>\n",
       "    <tr>\n",
       "      <th>2</th>\n",
       "      <td>365</td>\n",
       "      <td>store_1</td>\n",
       "      <td>category_32</td>\n",
       "      <td>0.0</td>\n",
       "      <td>0</td>\n",
       "      <td>0.0</td>\n",
       "      <td>1</td>\n",
       "      <td>1</td>\n",
       "      <td>1</td>\n",
       "      <td>2</td>\n",
       "      <td>...</td>\n",
       "      <td>False</td>\n",
       "      <td>True</td>\n",
       "      <td>False</td>\n",
       "      <td>True</td>\n",
       "      <td>False</td>\n",
       "      <td>101</td>\n",
       "      <td>0</td>\n",
       "      <td>0</td>\n",
       "      <td>0</td>\n",
       "      <td>0</td>\n",
       "    </tr>\n",
       "    <tr>\n",
       "      <th>3</th>\n",
       "      <td>365</td>\n",
       "      <td>store_1</td>\n",
       "      <td>category_18</td>\n",
       "      <td>0.0</td>\n",
       "      <td>0</td>\n",
       "      <td>0.0</td>\n",
       "      <td>1</td>\n",
       "      <td>1</td>\n",
       "      <td>1</td>\n",
       "      <td>2</td>\n",
       "      <td>...</td>\n",
       "      <td>False</td>\n",
       "      <td>True</td>\n",
       "      <td>False</td>\n",
       "      <td>True</td>\n",
       "      <td>False</td>\n",
       "      <td>101</td>\n",
       "      <td>0</td>\n",
       "      <td>0</td>\n",
       "      <td>0</td>\n",
       "      <td>0</td>\n",
       "    </tr>\n",
       "    <tr>\n",
       "      <th>4</th>\n",
       "      <td>365</td>\n",
       "      <td>store_1</td>\n",
       "      <td>category_26</td>\n",
       "      <td>0.0</td>\n",
       "      <td>0</td>\n",
       "      <td>0.0</td>\n",
       "      <td>1</td>\n",
       "      <td>1</td>\n",
       "      <td>1</td>\n",
       "      <td>2</td>\n",
       "      <td>...</td>\n",
       "      <td>False</td>\n",
       "      <td>True</td>\n",
       "      <td>False</td>\n",
       "      <td>True</td>\n",
       "      <td>False</td>\n",
       "      <td>101</td>\n",
       "      <td>0</td>\n",
       "      <td>0</td>\n",
       "      <td>0</td>\n",
       "      <td>0</td>\n",
       "    </tr>\n",
       "  </tbody>\n",
       "</table>\n",
       "<p>5 rows × 24 columns</p>\n",
       "</div>"
      ],
      "text/plain": [
       "   date store_id  category_id  target  onpromotion  nbr_of_transactions  year  \\\n",
       "0   365  store_1  category_24     0.0            0                  0.0     1   \n",
       "1   365  store_1  category_21     0.0            0                  0.0     1   \n",
       "2   365  store_1  category_32     0.0            0                  0.0     1   \n",
       "3   365  store_1  category_18     0.0            0                  0.0     1   \n",
       "4   365  store_1  category_26     0.0            0                  0.0     1   \n",
       "\n",
       "   month  dayofmonth  dayofweek  ...  is_month_end  is_quarter_start  \\\n",
       "0      1           1          2  ...         False              True   \n",
       "1      1           1          2  ...         False              True   \n",
       "2      1           1          2  ...         False              True   \n",
       "3      1           1          2  ...         False              True   \n",
       "4      1           1          2  ...         False              True   \n",
       "\n",
       "   is_quarter_end  is_year_start  is_year_end  year_weekofyear  city  type  \\\n",
       "0           False           True        False              101     0     0   \n",
       "1           False           True        False              101     0     0   \n",
       "2           False           True        False              101     0     0   \n",
       "3           False           True        False              101     0     0   \n",
       "4           False           True        False              101     0     0   \n",
       "\n",
       "   cluster  is_weekend  \n",
       "0        0           0  \n",
       "1        0           0  \n",
       "2        0           0  \n",
       "3        0           0  \n",
       "4        0           0  \n",
       "\n",
       "[5 rows x 24 columns]"
      ]
     },
     "execution_count": 16,
     "metadata": {},
     "output_type": "execute_result"
    }
   ],
   "source": [
    "merged_train.head()"
   ]
  },
  {
   "cell_type": "code",
   "execution_count": 17,
   "id": "4aeb1916",
   "metadata": {
    "execution": {
     "iopub.execute_input": "2025-06-04T19:00:33.553780Z",
     "iopub.status.busy": "2025-06-04T19:00:33.553173Z",
     "iopub.status.idle": "2025-06-04T19:00:33.565851Z",
     "shell.execute_reply": "2025-06-04T19:00:33.565199Z"
    },
    "papermill": {
     "duration": 0.021183,
     "end_time": "2025-06-04T19:00:33.566925",
     "exception": false,
     "start_time": "2025-06-04T19:00:33.545742",
     "status": "completed"
    },
    "tags": []
   },
   "outputs": [
    {
     "data": {
      "text/html": [
       "<div>\n",
       "<style scoped>\n",
       "    .dataframe tbody tr th:only-of-type {\n",
       "        vertical-align: middle;\n",
       "    }\n",
       "\n",
       "    .dataframe tbody tr th {\n",
       "        vertical-align: top;\n",
       "    }\n",
       "\n",
       "    .dataframe thead th {\n",
       "        text-align: right;\n",
       "    }\n",
       "</style>\n",
       "<table border=\"1\" class=\"dataframe\">\n",
       "  <thead>\n",
       "    <tr style=\"text-align: right;\">\n",
       "      <th></th>\n",
       "      <th>date</th>\n",
       "      <th>store_id</th>\n",
       "      <th>category_id</th>\n",
       "      <th>onpromotion</th>\n",
       "      <th>year</th>\n",
       "      <th>month</th>\n",
       "      <th>dayofmonth</th>\n",
       "      <th>dayofweek</th>\n",
       "      <th>dayofyear</th>\n",
       "      <th>weekofyear</th>\n",
       "      <th>...</th>\n",
       "      <th>is_month_end</th>\n",
       "      <th>is_quarter_start</th>\n",
       "      <th>is_quarter_end</th>\n",
       "      <th>is_year_start</th>\n",
       "      <th>is_year_end</th>\n",
       "      <th>year_weekofyear</th>\n",
       "      <th>city</th>\n",
       "      <th>type</th>\n",
       "      <th>cluster</th>\n",
       "      <th>is_weekend</th>\n",
       "    </tr>\n",
       "  </thead>\n",
       "  <tbody>\n",
       "    <tr>\n",
       "      <th>0</th>\n",
       "      <td>1627</td>\n",
       "      <td>store_1</td>\n",
       "      <td>category_24</td>\n",
       "      <td>0</td>\n",
       "      <td>4</td>\n",
       "      <td>6</td>\n",
       "      <td>19</td>\n",
       "      <td>0</td>\n",
       "      <td>170</td>\n",
       "      <td>25</td>\n",
       "      <td>...</td>\n",
       "      <td>False</td>\n",
       "      <td>False</td>\n",
       "      <td>False</td>\n",
       "      <td>False</td>\n",
       "      <td>False</td>\n",
       "      <td>425</td>\n",
       "      <td>0</td>\n",
       "      <td>0</td>\n",
       "      <td>0</td>\n",
       "      <td>0</td>\n",
       "    </tr>\n",
       "    <tr>\n",
       "      <th>1</th>\n",
       "      <td>1627</td>\n",
       "      <td>store_1</td>\n",
       "      <td>category_21</td>\n",
       "      <td>0</td>\n",
       "      <td>4</td>\n",
       "      <td>6</td>\n",
       "      <td>19</td>\n",
       "      <td>0</td>\n",
       "      <td>170</td>\n",
       "      <td>25</td>\n",
       "      <td>...</td>\n",
       "      <td>False</td>\n",
       "      <td>False</td>\n",
       "      <td>False</td>\n",
       "      <td>False</td>\n",
       "      <td>False</td>\n",
       "      <td>425</td>\n",
       "      <td>0</td>\n",
       "      <td>0</td>\n",
       "      <td>0</td>\n",
       "      <td>0</td>\n",
       "    </tr>\n",
       "    <tr>\n",
       "      <th>2</th>\n",
       "      <td>1627</td>\n",
       "      <td>store_1</td>\n",
       "      <td>category_32</td>\n",
       "      <td>0</td>\n",
       "      <td>4</td>\n",
       "      <td>6</td>\n",
       "      <td>19</td>\n",
       "      <td>0</td>\n",
       "      <td>170</td>\n",
       "      <td>25</td>\n",
       "      <td>...</td>\n",
       "      <td>False</td>\n",
       "      <td>False</td>\n",
       "      <td>False</td>\n",
       "      <td>False</td>\n",
       "      <td>False</td>\n",
       "      <td>425</td>\n",
       "      <td>0</td>\n",
       "      <td>0</td>\n",
       "      <td>0</td>\n",
       "      <td>0</td>\n",
       "    </tr>\n",
       "    <tr>\n",
       "      <th>3</th>\n",
       "      <td>1627</td>\n",
       "      <td>store_1</td>\n",
       "      <td>category_18</td>\n",
       "      <td>16</td>\n",
       "      <td>4</td>\n",
       "      <td>6</td>\n",
       "      <td>19</td>\n",
       "      <td>0</td>\n",
       "      <td>170</td>\n",
       "      <td>25</td>\n",
       "      <td>...</td>\n",
       "      <td>False</td>\n",
       "      <td>False</td>\n",
       "      <td>False</td>\n",
       "      <td>False</td>\n",
       "      <td>False</td>\n",
       "      <td>425</td>\n",
       "      <td>0</td>\n",
       "      <td>0</td>\n",
       "      <td>0</td>\n",
       "      <td>0</td>\n",
       "    </tr>\n",
       "    <tr>\n",
       "      <th>4</th>\n",
       "      <td>1627</td>\n",
       "      <td>store_1</td>\n",
       "      <td>category_26</td>\n",
       "      <td>0</td>\n",
       "      <td>4</td>\n",
       "      <td>6</td>\n",
       "      <td>19</td>\n",
       "      <td>0</td>\n",
       "      <td>170</td>\n",
       "      <td>25</td>\n",
       "      <td>...</td>\n",
       "      <td>False</td>\n",
       "      <td>False</td>\n",
       "      <td>False</td>\n",
       "      <td>False</td>\n",
       "      <td>False</td>\n",
       "      <td>425</td>\n",
       "      <td>0</td>\n",
       "      <td>0</td>\n",
       "      <td>0</td>\n",
       "      <td>0</td>\n",
       "    </tr>\n",
       "  </tbody>\n",
       "</table>\n",
       "<p>5 rows × 22 columns</p>\n",
       "</div>"
      ],
      "text/plain": [
       "   date store_id  category_id  onpromotion  year  month  dayofmonth  \\\n",
       "0  1627  store_1  category_24            0     4      6          19   \n",
       "1  1627  store_1  category_21            0     4      6          19   \n",
       "2  1627  store_1  category_32            0     4      6          19   \n",
       "3  1627  store_1  category_18           16     4      6          19   \n",
       "4  1627  store_1  category_26            0     4      6          19   \n",
       "\n",
       "   dayofweek  dayofyear  weekofyear  ...  is_month_end  is_quarter_start  \\\n",
       "0          0        170          25  ...         False             False   \n",
       "1          0        170          25  ...         False             False   \n",
       "2          0        170          25  ...         False             False   \n",
       "3          0        170          25  ...         False             False   \n",
       "4          0        170          25  ...         False             False   \n",
       "\n",
       "   is_quarter_end  is_year_start  is_year_end  year_weekofyear  city  type  \\\n",
       "0           False          False        False              425     0     0   \n",
       "1           False          False        False              425     0     0   \n",
       "2           False          False        False              425     0     0   \n",
       "3           False          False        False              425     0     0   \n",
       "4           False          False        False              425     0     0   \n",
       "\n",
       "   cluster  is_weekend  \n",
       "0        0           0  \n",
       "1        0           0  \n",
       "2        0           0  \n",
       "3        0           0  \n",
       "4        0           0  \n",
       "\n",
       "[5 rows x 22 columns]"
      ]
     },
     "execution_count": 17,
     "metadata": {},
     "output_type": "execute_result"
    }
   ],
   "source": [
    "merged_test.head()"
   ]
  },
  {
   "cell_type": "markdown",
   "id": "fec613cd",
   "metadata": {
    "papermill": {
     "duration": 0.006382,
     "end_time": "2025-06-04T19:00:33.579993",
     "exception": false,
     "start_time": "2025-06-04T19:00:33.573611",
     "status": "completed"
    },
    "tags": []
   },
   "source": [
    "We are at the interesting part, Model Training🔥🔥🙌🏽!\n",
    "\n",
    "Now Let's split the data for training, X and y. X is for features, and y is the target."
   ]
  },
  {
   "cell_type": "markdown",
   "id": "aeffc234",
   "metadata": {
    "papermill": {
     "duration": 0.00638,
     "end_time": "2025-06-04T19:00:33.592824",
     "exception": false,
     "start_time": "2025-06-04T19:00:33.586444",
     "status": "completed"
    },
    "tags": []
   },
   "source": [
    "## Model Training"
   ]
  },
  {
   "cell_type": "markdown",
   "id": "936a845b",
   "metadata": {
    "papermill": {
     "duration": 0.006387,
     "end_time": "2025-06-04T19:00:33.605700",
     "exception": false,
     "start_time": "2025-06-04T19:00:33.599313",
     "status": "completed"
    },
    "tags": []
   },
   "source": [
    "I know you have realized something.\n",
    "\n",
    "```\n",
    "y = np.log1p(merged_train.target) not y = merged_train.target\n",
    "```\n",
    "\n",
    "But in the Data Section:\n",
    "\n",
    "<div style=\"background-color: #ffcccc; padding: 10px; border-left: 5px solid red;\">\n",
    "<strong>NB:</strong> logp1 (log(x+1)) transformation was applied to the label on the testing set, hence we are asking you to apply the logp1 transformation on your predictions before making any submission.\n",
    "</div>\n",
    "\n",
    "\n",
    "This is the reason we converted it first and trained on it."
   ]
  },
  {
   "cell_type": "code",
   "execution_count": 18,
   "id": "44d2d4e7",
   "metadata": {
    "execution": {
     "iopub.execute_input": "2025-06-04T19:00:33.619737Z",
     "iopub.status.busy": "2025-06-04T19:00:33.619159Z",
     "iopub.status.idle": "2025-06-04T19:00:33.727472Z",
     "shell.execute_reply": "2025-06-04T19:00:33.726643Z"
    },
    "papermill": {
     "duration": 0.116918,
     "end_time": "2025-06-04T19:00:33.729073",
     "exception": false,
     "start_time": "2025-06-04T19:00:33.612155",
     "status": "completed"
    },
    "tags": []
   },
   "outputs": [],
   "source": [
    "X = merged_train.drop(columns=['target','nbr_of_transactions','year','weekofyear'])\n",
    "y = np.log1p(merged_train.target)\n",
    "X_test = merged_test"
   ]
  },
  {
   "cell_type": "markdown",
   "id": "ca46ab68",
   "metadata": {
    "papermill": {
     "duration": 0.007092,
     "end_time": "2025-06-04T19:00:33.745189",
     "exception": false,
     "start_time": "2025-06-04T19:00:33.738097",
     "status": "completed"
    },
    "tags": []
   },
   "source": [
    "Convert string features to categorical features so that our model, lightgbm, can make work with it."
   ]
  },
  {
   "cell_type": "code",
   "execution_count": 19,
   "id": "ce1b1d8e",
   "metadata": {
    "execution": {
     "iopub.execute_input": "2025-06-04T19:00:33.759098Z",
     "iopub.status.busy": "2025-06-04T19:00:33.758856Z",
     "iopub.status.idle": "2025-06-04T19:00:33.762695Z",
     "shell.execute_reply": "2025-06-04T19:00:33.762042Z"
    },
    "papermill": {
     "duration": 0.012127,
     "end_time": "2025-06-04T19:00:33.763799",
     "exception": false,
     "start_time": "2025-06-04T19:00:33.751672",
     "status": "completed"
    },
    "tags": []
   },
   "outputs": [],
   "source": [
    "def change_object_to_cat(df):\n",
    "  # changes objects columns to category and returns dataframe and list\n",
    "\n",
    "  df = df.copy()\n",
    "  list_str_obj_cols = df.columns[df.dtypes == \"object\"].tolist()\n",
    "  for str_obj_col in list_str_obj_cols:\n",
    "      df[str_obj_col] = df[str_obj_col].astype(\"category\")\n",
    "\n",
    "  return df,list_str_obj_cols"
   ]
  },
  {
   "cell_type": "code",
   "execution_count": 20,
   "id": "765875c8",
   "metadata": {
    "execution": {
     "iopub.execute_input": "2025-06-04T19:00:33.778334Z",
     "iopub.status.busy": "2025-06-04T19:00:33.777662Z",
     "iopub.status.idle": "2025-06-04T19:00:34.362263Z",
     "shell.execute_reply": "2025-06-04T19:00:34.361487Z"
    },
    "papermill": {
     "duration": 0.593211,
     "end_time": "2025-06-04T19:00:34.363678",
     "exception": false,
     "start_time": "2025-06-04T19:00:33.770467",
     "status": "completed"
    },
    "tags": []
   },
   "outputs": [],
   "source": [
    "X, cat_list = change_object_to_cat(X)\n",
    "X_test, cat_list = change_object_to_cat(X_test)"
   ]
  },
  {
   "cell_type": "markdown",
   "id": "4a0576fa",
   "metadata": {
    "papermill": {
     "duration": 0.006682,
     "end_time": "2025-06-04T19:00:34.377487",
     "exception": false,
     "start_time": "2025-06-04T19:00:34.370805",
     "status": "completed"
    },
    "tags": []
   },
   "source": [
    "This code below trains a LightGBM (LGBM) regression model using cross-validation. It’s especially useful when you want to evaluate how well your model generalizes to unseen data and avoid overfitting.\n",
    "\n",
    "It contains two key functions:\n",
    "\n",
    "<strong><code>lgbm_trainer</code><strong>: Trains one LGBM model and evaluates it using a validation set.\n",
    "\n",
    "This function trains a single LightGBM model using:\n",
    "\n",
    "train_data and validation_data prepared using lgb.Dataset, with categorical features properly specified.\n",
    "\n",
    "Training is done using lgb.train, with:\n",
    "\n",
    "Early stopping\n",
    "\n",
    "Evaluation logging\n",
    "\n",
    "Evaluation result recording\n",
    "\n",
    "\n",
    "<strong><code>cv_train_lgbm</code><strong>: Performs cross-validation (here, 6-fold), trains models on each fold, and calculates the average RMSE.\n",
    "\n",
    "This function performs 6-fold cross-validation and:\n",
    "\n",
    "Trains one model per fold using lgbm_trainer\n",
    "\n",
    "Collects predictions and computes RMSE for each fold\n",
    "\n",
    "Returns the mean RMSE and a list of trained models\n"
   ]
  },
  {
   "cell_type": "code",
   "execution_count": 21,
   "id": "f11bf2b1",
   "metadata": {
    "execution": {
     "iopub.execute_input": "2025-06-04T19:00:34.392426Z",
     "iopub.status.busy": "2025-06-04T19:00:34.392211Z",
     "iopub.status.idle": "2025-06-04T19:14:25.169238Z",
     "shell.execute_reply": "2025-06-04T19:14:25.166095Z"
    },
    "papermill": {
     "duration": 830.800756,
     "end_time": "2025-06-04T19:14:25.185167",
     "exception": false,
     "start_time": "2025-06-04T19:00:34.384411",
     "status": "completed"
    },
    "tags": []
   },
   "outputs": [
    {
     "name": "stderr",
     "output_type": "stream",
     "text": [
      "1 warning generated.\n",
      "1 warning generated.\n",
      "1 warning generated.\n",
      "1 warning generated.\n",
      "1 warning generated.\n",
      "1 warning generated.\n",
      "1 warning generated.\n",
      "1 warning generated.\n",
      "1 warning generated.\n",
      "1 warning generated.\n",
      "1 warning generated.\n",
      "1 warning generated.\n",
      "1 warning generated.\n",
      "1 warning generated.\n",
      "1 warning generated.\n",
      "1 warning generated.\n",
      "1 warning generated.\n",
      "1 warning generated.\n",
      "1 warning generated.\n",
      "1 warning generated.\n",
      "1 warning generated.\n",
      "1 warning generated.\n",
      "1 warning generated.\n",
      "1 warning generated.\n",
      "1 warning generated.\n",
      "1 warning generated.\n",
      "1 warning generated.\n",
      "1 warning generated.\n",
      "1 warning generated.\n",
      "1 warning generated.\n",
      "1 warning generated.\n",
      "1 warning generated.\n",
      "1 warning generated.\n"
     ]
    },
    {
     "name": "stdout",
     "output_type": "stream",
     "text": [
      "Training until validation scores don't improve for 100 rounds\n",
      "[100]\ttraining's rmse: 0.54822\tvalid_1's rmse: 0.550831\n",
      "[200]\ttraining's rmse: 0.492301\tvalid_1's rmse: 0.495234\n",
      "[300]\ttraining's rmse: 0.462197\tvalid_1's rmse: 0.465713\n",
      "[400]\ttraining's rmse: 0.441255\tvalid_1's rmse: 0.44504\n",
      "[500]\ttraining's rmse: 0.428024\tvalid_1's rmse: 0.432162\n",
      "[600]\ttraining's rmse: 0.417954\tvalid_1's rmse: 0.422341\n",
      "[700]\ttraining's rmse: 0.410588\tvalid_1's rmse: 0.415445\n",
      "[800]\ttraining's rmse: 0.404062\tvalid_1's rmse: 0.409305\n",
      "[900]\ttraining's rmse: 0.398307\tvalid_1's rmse: 0.404004\n",
      "[1000]\ttraining's rmse: 0.394149\tvalid_1's rmse: 0.400256\n",
      "[1100]\ttraining's rmse: 0.390478\tvalid_1's rmse: 0.39701\n",
      "[1200]\ttraining's rmse: 0.38732\tvalid_1's rmse: 0.394218\n",
      "[1300]\ttraining's rmse: 0.384562\tvalid_1's rmse: 0.391918\n",
      "[1400]\ttraining's rmse: 0.381886\tvalid_1's rmse: 0.389613\n",
      "[1500]\ttraining's rmse: 0.379544\tvalid_1's rmse: 0.387657\n",
      "[1600]\ttraining's rmse: 0.377223\tvalid_1's rmse: 0.385702\n",
      "[1700]\ttraining's rmse: 0.374974\tvalid_1's rmse: 0.383861\n",
      "[1800]\ttraining's rmse: 0.373125\tvalid_1's rmse: 0.382457\n",
      "[1900]\ttraining's rmse: 0.371249\tvalid_1's rmse: 0.380935\n",
      "[2000]\ttraining's rmse: 0.369626\tvalid_1's rmse: 0.379693\n",
      "[2100]\ttraining's rmse: 0.368087\tvalid_1's rmse: 0.378539\n",
      "[2200]\ttraining's rmse: 0.366548\tvalid_1's rmse: 0.377437\n",
      "[2300]\ttraining's rmse: 0.365134\tvalid_1's rmse: 0.376363\n",
      "[2400]\ttraining's rmse: 0.363853\tvalid_1's rmse: 0.375492\n",
      "[2500]\ttraining's rmse: 0.362703\tvalid_1's rmse: 0.374729\n",
      "[2600]\ttraining's rmse: 0.361539\tvalid_1's rmse: 0.374031\n",
      "[2700]\ttraining's rmse: 0.360425\tvalid_1's rmse: 0.373317\n",
      "[2800]\ttraining's rmse: 0.359243\tvalid_1's rmse: 0.372508\n",
      "[2900]\ttraining's rmse: 0.358326\tvalid_1's rmse: 0.371981\n",
      "[3000]\ttraining's rmse: 0.357396\tvalid_1's rmse: 0.371429\n",
      "Did not meet early stopping. Best iteration is:\n",
      "[3000]\ttraining's rmse: 0.357396\tvalid_1's rmse: 0.371429\n",
      "Training until validation scores don't improve for 100 rounds\n",
      "[100]\ttraining's rmse: 0.55138\tvalid_1's rmse: 0.555144\n",
      "[200]\ttraining's rmse: 0.494911\tvalid_1's rmse: 0.499373\n",
      "[300]\ttraining's rmse: 0.460517\tvalid_1's rmse: 0.465697\n",
      "[400]\ttraining's rmse: 0.442959\tvalid_1's rmse: 0.448628\n",
      "[500]\ttraining's rmse: 0.427708\tvalid_1's rmse: 0.433649\n",
      "[600]\ttraining's rmse: 0.41842\tvalid_1's rmse: 0.424693\n",
      "[700]\ttraining's rmse: 0.410658\tvalid_1's rmse: 0.417025\n",
      "[800]\ttraining's rmse: 0.405603\tvalid_1's rmse: 0.412413\n",
      "[900]\ttraining's rmse: 0.399955\tvalid_1's rmse: 0.407166\n",
      "[1000]\ttraining's rmse: 0.395743\tvalid_1's rmse: 0.403193\n",
      "[1100]\ttraining's rmse: 0.391774\tvalid_1's rmse: 0.399516\n",
      "[1200]\ttraining's rmse: 0.388895\tvalid_1's rmse: 0.397004\n",
      "[1300]\ttraining's rmse: 0.385656\tvalid_1's rmse: 0.394166\n",
      "[1400]\ttraining's rmse: 0.382716\tvalid_1's rmse: 0.391569\n",
      "[1500]\ttraining's rmse: 0.380271\tvalid_1's rmse: 0.389507\n",
      "[1600]\ttraining's rmse: 0.378334\tvalid_1's rmse: 0.387989\n",
      "[1700]\ttraining's rmse: 0.376175\tvalid_1's rmse: 0.38618\n",
      "[1800]\ttraining's rmse: 0.374161\tvalid_1's rmse: 0.384514\n",
      "[1900]\ttraining's rmse: 0.37231\tvalid_1's rmse: 0.383059\n",
      "[2000]\ttraining's rmse: 0.370725\tvalid_1's rmse: 0.381819\n",
      "[2100]\ttraining's rmse: 0.369099\tvalid_1's rmse: 0.380552\n",
      "[2200]\ttraining's rmse: 0.367639\tvalid_1's rmse: 0.379373\n",
      "[2300]\ttraining's rmse: 0.366136\tvalid_1's rmse: 0.378198\n",
      "[2400]\ttraining's rmse: 0.364691\tvalid_1's rmse: 0.377082\n",
      "[2500]\ttraining's rmse: 0.363469\tvalid_1's rmse: 0.376278\n",
      "[2600]\ttraining's rmse: 0.362447\tvalid_1's rmse: 0.375636\n",
      "[2700]\ttraining's rmse: 0.361195\tvalid_1's rmse: 0.374756\n",
      "[2800]\ttraining's rmse: 0.360073\tvalid_1's rmse: 0.373933\n",
      "[2900]\ttraining's rmse: 0.358861\tvalid_1's rmse: 0.373135\n",
      "[3000]\ttraining's rmse: 0.357764\tvalid_1's rmse: 0.372397\n",
      "Did not meet early stopping. Best iteration is:\n",
      "[3000]\ttraining's rmse: 0.357764\tvalid_1's rmse: 0.372397\n",
      "Training until validation scores don't improve for 100 rounds\n",
      "[100]\ttraining's rmse: 0.551376\tvalid_1's rmse: 0.551193\n",
      "[200]\ttraining's rmse: 0.490917\tvalid_1's rmse: 0.491665\n",
      "[300]\ttraining's rmse: 0.459425\tvalid_1's rmse: 0.460461\n",
      "[400]\ttraining's rmse: 0.442253\tvalid_1's rmse: 0.443941\n",
      "[500]\ttraining's rmse: 0.427472\tvalid_1's rmse: 0.429751\n",
      "[600]\ttraining's rmse: 0.418375\tvalid_1's rmse: 0.421156\n",
      "[700]\ttraining's rmse: 0.410212\tvalid_1's rmse: 0.413562\n",
      "[800]\ttraining's rmse: 0.40389\tvalid_1's rmse: 0.407792\n",
      "[900]\ttraining's rmse: 0.399226\tvalid_1's rmse: 0.403518\n",
      "[1000]\ttraining's rmse: 0.39503\tvalid_1's rmse: 0.399816\n",
      "[1100]\ttraining's rmse: 0.391312\tvalid_1's rmse: 0.3966\n",
      "[1200]\ttraining's rmse: 0.387587\tvalid_1's rmse: 0.393383\n",
      "[1300]\ttraining's rmse: 0.384326\tvalid_1's rmse: 0.390473\n",
      "[1400]\ttraining's rmse: 0.381645\tvalid_1's rmse: 0.388248\n",
      "[1500]\ttraining's rmse: 0.379281\tvalid_1's rmse: 0.386298\n",
      "[1600]\ttraining's rmse: 0.377102\tvalid_1's rmse: 0.384562\n",
      "[1700]\ttraining's rmse: 0.37486\tvalid_1's rmse: 0.38269\n",
      "[1800]\ttraining's rmse: 0.373215\tvalid_1's rmse: 0.381458\n",
      "[1900]\ttraining's rmse: 0.3716\tvalid_1's rmse: 0.380247\n",
      "[2000]\ttraining's rmse: 0.369923\tvalid_1's rmse: 0.379008\n",
      "[2100]\ttraining's rmse: 0.368368\tvalid_1's rmse: 0.377862\n",
      "[2200]\ttraining's rmse: 0.366811\tvalid_1's rmse: 0.376697\n",
      "[2300]\ttraining's rmse: 0.365306\tvalid_1's rmse: 0.375636\n",
      "[2400]\ttraining's rmse: 0.364144\tvalid_1's rmse: 0.374851\n",
      "[2500]\ttraining's rmse: 0.363068\tvalid_1's rmse: 0.374194\n",
      "[2600]\ttraining's rmse: 0.361772\tvalid_1's rmse: 0.373265\n",
      "[2700]\ttraining's rmse: 0.360502\tvalid_1's rmse: 0.372366\n",
      "[2800]\ttraining's rmse: 0.35941\tvalid_1's rmse: 0.371713\n",
      "[2900]\ttraining's rmse: 0.35837\tvalid_1's rmse: 0.37109\n",
      "[3000]\ttraining's rmse: 0.357332\tvalid_1's rmse: 0.370453\n",
      "Did not meet early stopping. Best iteration is:\n",
      "[3000]\ttraining's rmse: 0.357332\tvalid_1's rmse: 0.370453\n",
      "Training until validation scores don't improve for 100 rounds\n",
      "[100]\ttraining's rmse: 0.54979\tvalid_1's rmse: 0.551295\n",
      "[200]\ttraining's rmse: 0.497162\tvalid_1's rmse: 0.499718\n",
      "[300]\ttraining's rmse: 0.462583\tvalid_1's rmse: 0.46546\n",
      "[400]\ttraining's rmse: 0.442823\tvalid_1's rmse: 0.445734\n",
      "[500]\ttraining's rmse: 0.427834\tvalid_1's rmse: 0.43102\n",
      "[600]\ttraining's rmse: 0.418465\tvalid_1's rmse: 0.422073\n",
      "[700]\ttraining's rmse: 0.410644\tvalid_1's rmse: 0.414709\n",
      "[800]\ttraining's rmse: 0.405306\tvalid_1's rmse: 0.409827\n",
      "[900]\ttraining's rmse: 0.399607\tvalid_1's rmse: 0.404417\n",
      "[1000]\ttraining's rmse: 0.395419\tvalid_1's rmse: 0.400742\n",
      "[1100]\ttraining's rmse: 0.391681\tvalid_1's rmse: 0.397347\n",
      "[1200]\ttraining's rmse: 0.387751\tvalid_1's rmse: 0.393797\n",
      "[1300]\ttraining's rmse: 0.384737\tvalid_1's rmse: 0.391156\n",
      "[1400]\ttraining's rmse: 0.381911\tvalid_1's rmse: 0.388748\n",
      "[1500]\ttraining's rmse: 0.379759\tvalid_1's rmse: 0.386939\n",
      "[1600]\ttraining's rmse: 0.377015\tvalid_1's rmse: 0.384486\n",
      "[1700]\ttraining's rmse: 0.375015\tvalid_1's rmse: 0.382871\n",
      "[1800]\ttraining's rmse: 0.373277\tvalid_1's rmse: 0.381553\n",
      "[1900]\ttraining's rmse: 0.37148\tvalid_1's rmse: 0.380142\n",
      "[2000]\ttraining's rmse: 0.36982\tvalid_1's rmse: 0.378863\n",
      "[2100]\ttraining's rmse: 0.368187\tvalid_1's rmse: 0.377612\n",
      "[2200]\ttraining's rmse: 0.366802\tvalid_1's rmse: 0.376631\n",
      "[2300]\ttraining's rmse: 0.365498\tvalid_1's rmse: 0.375742\n",
      "[2400]\ttraining's rmse: 0.364301\tvalid_1's rmse: 0.374929\n",
      "[2500]\ttraining's rmse: 0.363156\tvalid_1's rmse: 0.37417\n",
      "[2600]\ttraining's rmse: 0.362005\tvalid_1's rmse: 0.373363\n",
      "[2700]\ttraining's rmse: 0.360973\tvalid_1's rmse: 0.372652\n",
      "[2800]\ttraining's rmse: 0.35975\tvalid_1's rmse: 0.371783\n",
      "[2900]\ttraining's rmse: 0.358575\tvalid_1's rmse: 0.370992\n",
      "[3000]\ttraining's rmse: 0.357446\tvalid_1's rmse: 0.370254\n",
      "Did not meet early stopping. Best iteration is:\n",
      "[3000]\ttraining's rmse: 0.357446\tvalid_1's rmse: 0.370254\n",
      "Training until validation scores don't improve for 100 rounds\n",
      "[100]\ttraining's rmse: 0.550511\tvalid_1's rmse: 0.548749\n",
      "[200]\ttraining's rmse: 0.495757\tvalid_1's rmse: 0.494532\n",
      "[300]\ttraining's rmse: 0.464024\tvalid_1's rmse: 0.463376\n",
      "[400]\ttraining's rmse: 0.440202\tvalid_1's rmse: 0.440495\n",
      "[500]\ttraining's rmse: 0.428812\tvalid_1's rmse: 0.429664\n",
      "[600]\ttraining's rmse: 0.417665\tvalid_1's rmse: 0.418963\n",
      "[700]\ttraining's rmse: 0.40976\tvalid_1's rmse: 0.411658\n",
      "[800]\ttraining's rmse: 0.404381\tvalid_1's rmse: 0.406773\n",
      "[900]\ttraining's rmse: 0.399173\tvalid_1's rmse: 0.402077\n",
      "[1000]\ttraining's rmse: 0.394988\tvalid_1's rmse: 0.398445\n",
      "[1100]\ttraining's rmse: 0.391304\tvalid_1's rmse: 0.395221\n",
      "[1200]\ttraining's rmse: 0.388004\tvalid_1's rmse: 0.392474\n",
      "[1300]\ttraining's rmse: 0.3854\tvalid_1's rmse: 0.390283\n",
      "[1400]\ttraining's rmse: 0.382609\tvalid_1's rmse: 0.387958\n",
      "[1500]\ttraining's rmse: 0.380102\tvalid_1's rmse: 0.385872\n",
      "[1600]\ttraining's rmse: 0.377716\tvalid_1's rmse: 0.383972\n",
      "[1700]\ttraining's rmse: 0.37526\tvalid_1's rmse: 0.381938\n",
      "[1800]\ttraining's rmse: 0.373196\tvalid_1's rmse: 0.380336\n",
      "[1900]\ttraining's rmse: 0.371464\tvalid_1's rmse: 0.378987\n",
      "[2000]\ttraining's rmse: 0.369778\tvalid_1's rmse: 0.3778\n",
      "[2100]\ttraining's rmse: 0.368265\tvalid_1's rmse: 0.376681\n",
      "[2200]\ttraining's rmse: 0.366792\tvalid_1's rmse: 0.375594\n",
      "[2300]\ttraining's rmse: 0.365456\tvalid_1's rmse: 0.374611\n",
      "[2400]\ttraining's rmse: 0.364202\tvalid_1's rmse: 0.373775\n",
      "[2500]\ttraining's rmse: 0.36307\tvalid_1's rmse: 0.373035\n",
      "[2600]\ttraining's rmse: 0.361852\tvalid_1's rmse: 0.372232\n",
      "[2700]\ttraining's rmse: 0.360833\tvalid_1's rmse: 0.371572\n",
      "[2800]\ttraining's rmse: 0.359675\tvalid_1's rmse: 0.37082\n",
      "[2900]\ttraining's rmse: 0.358689\tvalid_1's rmse: 0.370244\n",
      "[3000]\ttraining's rmse: 0.357682\tvalid_1's rmse: 0.369588\n",
      "Did not meet early stopping. Best iteration is:\n",
      "[3000]\ttraining's rmse: 0.357682\tvalid_1's rmse: 0.369588\n",
      "Training until validation scores don't improve for 100 rounds\n",
      "[100]\ttraining's rmse: 0.553358\tvalid_1's rmse: 0.554474\n",
      "[200]\ttraining's rmse: 0.496459\tvalid_1's rmse: 0.498499\n",
      "[300]\ttraining's rmse: 0.463378\tvalid_1's rmse: 0.466402\n",
      "[400]\ttraining's rmse: 0.443007\tvalid_1's rmse: 0.446696\n",
      "[500]\ttraining's rmse: 0.4289\tvalid_1's rmse: 0.433283\n",
      "[600]\ttraining's rmse: 0.41859\tvalid_1's rmse: 0.423568\n",
      "[700]\ttraining's rmse: 0.410675\tvalid_1's rmse: 0.416159\n",
      "[800]\ttraining's rmse: 0.405439\tvalid_1's rmse: 0.411438\n",
      "[900]\ttraining's rmse: 0.400834\tvalid_1's rmse: 0.407311\n",
      "[1000]\ttraining's rmse: 0.395971\tvalid_1's rmse: 0.402848\n",
      "[1100]\ttraining's rmse: 0.391382\tvalid_1's rmse: 0.398679\n",
      "[1200]\ttraining's rmse: 0.387914\tvalid_1's rmse: 0.395605\n",
      "[1300]\ttraining's rmse: 0.384832\tvalid_1's rmse: 0.392921\n",
      "[1400]\ttraining's rmse: 0.382121\tvalid_1's rmse: 0.390668\n",
      "[1500]\ttraining's rmse: 0.379533\tvalid_1's rmse: 0.388559\n",
      "[1600]\ttraining's rmse: 0.377124\tvalid_1's rmse: 0.386494\n",
      "[1700]\ttraining's rmse: 0.375012\tvalid_1's rmse: 0.384852\n",
      "[1800]\ttraining's rmse: 0.373261\tvalid_1's rmse: 0.383521\n",
      "[1900]\ttraining's rmse: 0.371584\tvalid_1's rmse: 0.382288\n",
      "[2000]\ttraining's rmse: 0.369662\tvalid_1's rmse: 0.380809\n",
      "[2100]\ttraining's rmse: 0.367995\tvalid_1's rmse: 0.379517\n",
      "[2200]\ttraining's rmse: 0.366537\tvalid_1's rmse: 0.378408\n",
      "[2300]\ttraining's rmse: 0.365143\tvalid_1's rmse: 0.377368\n",
      "[2400]\ttraining's rmse: 0.363849\tvalid_1's rmse: 0.376479\n",
      "[2500]\ttraining's rmse: 0.36258\tvalid_1's rmse: 0.375651\n",
      "[2600]\ttraining's rmse: 0.36132\tvalid_1's rmse: 0.374872\n",
      "[2700]\ttraining's rmse: 0.360099\tvalid_1's rmse: 0.374049\n",
      "[2800]\ttraining's rmse: 0.358988\tvalid_1's rmse: 0.373318\n",
      "[2900]\ttraining's rmse: 0.357904\tvalid_1's rmse: 0.372592\n",
      "[3000]\ttraining's rmse: 0.356961\tvalid_1's rmse: 0.372038\n",
      "Did not meet early stopping. Best iteration is:\n",
      "[3000]\ttraining's rmse: 0.356961\tvalid_1's rmse: 0.372038\n",
      "Mean RMSE: 0.37102672148922416\n",
      "0.37102672148922416\n"
     ]
    }
   ],
   "source": [
    "def lgbm_trainer(X_train, y_train, X_test, y_test, params, num_round, categorical):\n",
    "    \"\"\"\n",
    "    Trains an LGBM (LightGBM) model using the training data and evaluates it on the validation data.\n",
    "    Returns the trained model (bst).\n",
    "    \"\"\"\n",
    "\n",
    "    # Prepare the training dataset for LightGBM\n",
    "    # 'lgb.Dataset' is used to create a LightGBM dataset object from the training data\n",
    "    # 'categorical_feature' specifies which columns are categorical\n",
    "    train_data = lgb.Dataset(X_train, y_train, feature_name=X_train.columns.tolist(), categorical_feature=categorical, free_raw_data=False)\n",
    "\n",
    "    # Prepare the validation dataset for LightGBM in the same way as the training data\n",
    "    validation_data = lgb.Dataset(X_test, y_test, feature_name=X_train.columns.tolist(), categorical_feature=categorical, free_raw_data=False)\n",
    "\n",
    "    # Initialize an empty dictionary to record evaluation results during training\n",
    "    eval_result = {}\n",
    "\n",
    "    # Train the LightGBM model using the specified parameters and datasets\n",
    "    bst = lgb.train(\n",
    "        params,  # Model parameters (e.g., learning rate, number of leaves, etc.)\n",
    "        train_data,  # The training dataset\n",
    "        num_round,  # The number of boosting rounds (iterations)\n",
    "        valid_sets=[train_data, validation_data],  # Datasets to evaluate during training\n",
    "        callbacks=[  # Callbacks to use during training\n",
    "            lgb.early_stopping(stopping_rounds=100),  # Stop training early if the validation score doesn't improve for 17 rounds\n",
    "            lgb.log_evaluation(100),  # Log evaluation results every 100 rounds\n",
    "            lgb.record_evaluation(eval_result)  # Record evaluation results in 'eval_result'\n",
    "        ]\n",
    "    )\n",
    "\n",
    "    # Return the trained model (bst) after training is complete\n",
    "    return bst\n",
    "    \n",
    "# We start by defining default parameters and setting the objective metric\n",
    "param = {\"verbose\": -100}  # Set verbosity to -100 to suppress detailed output\n",
    "param['metric'] = 'rmse'   # Set the evaluation metric to RMSE (Root Mean Squared Error)\n",
    "param['device_type'] ='gpu'\n",
    "param['gpu_use_dp'] = False\n",
    "param['random_state'] = 42\n",
    "\n",
    "# Lists to save metrics and predictions from the cross-validation folds\n",
    "def cv_train_lgbm(X_train, y_train, params, num_rounds, category):\n",
    "    \"\"\"\n",
    "    Function to perform 14-fold cross-validation and train an LGBM model\n",
    "    Returns the out-of-fold validation score and the models from the cross-validation\n",
    "    Parameters:\n",
    "    X_train (DataFrame): The feature matrix for training.\n",
    "    y_train (Series): The target labels for training.\n",
    "    params (dict): The parameters for training the LightGBM model.\n",
    "    num_rounds (int): The number of boosting iterations (rounds) to train the model.\n",
    "    cat_list (list): A list of categorical feature names or indices.\n",
    "    \n",
    "    Returns:\n",
    "    tuple: A tuple containing the mean RMSE (float) and the list of trained models (list).\n",
    "    \"\"\"\n",
    "    kf = KFold(n_splits=6, random_state=42, shuffle=True)  # 14-fold cross-validation\n",
    "    lgbm_rmses = []  # List to store RMSE values for each fold\n",
    "    lgbm_y_vals = []  # List to store true values for each fold (not used in this example)\n",
    "    lgbm_y_hats = []  # List to store predicted values for each fold (not used in this example)\n",
    "    lgbm_models = []  # List to store trained models for each fold\n",
    "\n",
    "    # Loop through each fold of the cross-validation\n",
    "    for trn_idx, test_idx in kf.split(X_train, y_train):  # Split the data into training and validation sets\n",
    "        X_tr, X_val = X_train.iloc[trn_idx], X_train.iloc[test_idx]  # Training and validation features\n",
    "        y_tr, y_val = y_train.iloc[trn_idx], y_train.iloc[test_idx]  # Training and validation labels\n",
    "        \n",
    "        # Train the LGBM model using the training data and validation data\n",
    "        lgbm_cls = lgbm_trainer(X_tr, y_tr, X_val, y_val, params, num_rounds, category)\n",
    "        lgbm_models.append(lgbm_cls)  # Save the trained model\n",
    "        \n",
    "        # Use the trained model to make predictions on the validation set\n",
    "        lgbm_y_hat = lgbm_cls.predict(X_val, num_iteration=lgbm_cls.best_iteration)\n",
    "        \n",
    "        # Calculate RMSE (Root Mean Squared Error) between true and predicted values\n",
    "        lgbm_rmse = mean_squared_error(y_val, lgbm_y_hat, squared=False)  # RMSE is the square root of MSE\n",
    "        lgbm_rmses.append(lgbm_rmse)  # Save the RMSE for this fold\n",
    "    \n",
    "    # Calculate the mean RMSE across all folds\n",
    "    lgbm_mean_rmse = statistics.mean(lgbm_rmses)\n",
    "    print(\"Mean RMSE: {}\".format(lgbm_mean_rmse))  # Print the average RMSE across all folds\n",
    "    \n",
    "    return lgbm_mean_rmse, lgbm_models  # Return the average RMSE and the list of trained models\n",
    "\n",
    "\n",
    "# Run the cross-validation function with the training data, parameters, and category list\n",
    "lgbm_rmse, lgbm_models = cv_train_lgbm(X, y, param, 3000, cat_list)\n",
    "\n",
    "# Print the final average RMSE\n",
    "print(lgbm_rmse)"
   ]
  },
  {
   "cell_type": "markdown",
   "id": "c57fed38",
   "metadata": {
    "papermill": {
     "duration": 0.013924,
     "end_time": "2025-06-04T19:14:25.214149",
     "exception": false,
     "start_time": "2025-06-04T19:14:25.200225",
     "status": "completed"
    },
    "tags": []
   },
   "source": [
    "## 🔮 Making Predictions on Test Set"
   ]
  },
  {
   "cell_type": "code",
   "execution_count": 22,
   "id": "aa78a40e",
   "metadata": {
    "execution": {
     "iopub.execute_input": "2025-06-04T19:14:25.243330Z",
     "iopub.status.busy": "2025-06-04T19:14:25.243119Z",
     "iopub.status.idle": "2025-06-04T19:15:15.295050Z",
     "shell.execute_reply": "2025-06-04T19:15:15.294478Z"
    },
    "papermill": {
     "duration": 50.068252,
     "end_time": "2025-06-04T19:15:15.296469",
     "exception": false,
     "start_time": "2025-06-04T19:14:25.228217",
     "status": "completed"
    },
    "tags": []
   },
   "outputs": [],
   "source": [
    "pred_df = X_test.copy()\n",
    "\n",
    "# --- Predict using the trained log1p models ---\n",
    "for i, model in enumerate(lgbm_models):\n",
    "    if hasattr(model, 'best_iteration') and model.best_iteration:\n",
    "        pred_log = model.predict(X_test[X.columns], num_iteration=model.best_iteration)\n",
    "    else:\n",
    "        pred_log = model.predict(X_test[X.columns])\n",
    "    \n",
    "    # Apply np.expm1 to reverse the log1p transformation\n",
    "    pred_df[f\"pred_lgbm_{i}\"] = np.expm1(pred_log)\n",
    "\n",
    "# --- Ensemble the Predictions (Mean and Median) ---\n",
    "lgbm_preds = pred_df.filter(like='pred_lgbm').values\n",
    "pred_df[\"mean_pred\"] = lgbm_preds.mean(axis=1).clip(min=0)\n",
    "pred_df[\"median_pred\"] = np.median(lgbm_preds, axis=1).clip(min=0)\n",
    "\n",
    "# --- Create ID Column ---\n",
    "pred_df[\"ID\"] = (\n",
    "    \"year_week_\" +\n",
    "    X_test[\"year_weekofyear\"].astype(str) + \"_\" +\n",
    "    X_test[\"store_id\"].astype(str) + \"_\" +\n",
    "    X_test[\"category_id\"].astype(str)\n",
    ")\n",
    "\n",
    "# --- Aggregate Final Submission ---\n",
    "submission = (\n",
    "    pred_df.groupby(\"ID\", as_index=False)[\"mean_pred\"]\n",
    "    .sum()\n",
    "    .rename(columns={\"mean_pred\": \"target\"})\n",
    ")\n",
    "\n",
    "# --- Final Cleanup ---\n",
    "submission.fillna(0, inplace=True)"
   ]
  },
  {
   "cell_type": "code",
   "execution_count": 23,
   "id": "c9663e5c",
   "metadata": {
    "execution": {
     "iopub.execute_input": "2025-06-04T19:15:15.327055Z",
     "iopub.status.busy": "2025-06-04T19:15:15.326806Z",
     "iopub.status.idle": "2025-06-04T19:15:15.331873Z",
     "shell.execute_reply": "2025-06-04T19:15:15.331308Z"
    },
    "papermill": {
     "duration": 0.021243,
     "end_time": "2025-06-04T19:15:15.332902",
     "exception": false,
     "start_time": "2025-06-04T19:15:15.311659",
     "status": "completed"
    },
    "tags": []
   },
   "outputs": [],
   "source": [
    "submission.target = np.log1p(submission.target)\n",
    "\n",
    "# Fill any NaNs just in case (precaution)\n",
    "submission.fillna(0, inplace=True)"
   ]
  },
  {
   "cell_type": "markdown",
   "id": "99277951",
   "metadata": {
    "papermill": {
     "duration": 0.013835,
     "end_time": "2025-06-04T19:15:15.360812",
     "exception": false,
     "start_time": "2025-06-04T19:15:15.346977",
     "status": "completed"
    },
    "tags": []
   },
   "source": [
    "Did you see the trick?🤔\n",
    "\n",
    "Yes I used numpy's <code>np.expm1</code> to convert the log values back to the normal target values, summed them up because it is a weekly target we are to submit😮‍💨, and then convert it back to the log values."
   ]
  },
  {
   "cell_type": "code",
   "execution_count": 24,
   "id": "30b0e939",
   "metadata": {
    "execution": {
     "iopub.execute_input": "2025-06-04T19:15:15.389679Z",
     "iopub.status.busy": "2025-06-04T19:15:15.389455Z",
     "iopub.status.idle": "2025-06-04T19:15:15.397115Z",
     "shell.execute_reply": "2025-06-04T19:15:15.396471Z"
    },
    "papermill": {
     "duration": 0.023381,
     "end_time": "2025-06-04T19:15:15.398240",
     "exception": false,
     "start_time": "2025-06-04T19:15:15.374859",
     "status": "completed"
    },
    "tags": []
   },
   "outputs": [
    {
     "data": {
      "text/html": [
       "<div>\n",
       "<style scoped>\n",
       "    .dataframe tbody tr th:only-of-type {\n",
       "        vertical-align: middle;\n",
       "    }\n",
       "\n",
       "    .dataframe tbody tr th {\n",
       "        vertical-align: top;\n",
       "    }\n",
       "\n",
       "    .dataframe thead th {\n",
       "        text-align: right;\n",
       "    }\n",
       "</style>\n",
       "<table border=\"1\" class=\"dataframe\">\n",
       "  <thead>\n",
       "    <tr style=\"text-align: right;\">\n",
       "      <th></th>\n",
       "      <th>ID</th>\n",
       "      <th>target</th>\n",
       "    </tr>\n",
       "  </thead>\n",
       "  <tbody>\n",
       "    <tr>\n",
       "      <th>0</th>\n",
       "      <td>year_week_425_store_10_category_0</td>\n",
       "      <td>4.537493</td>\n",
       "    </tr>\n",
       "    <tr>\n",
       "      <th>1</th>\n",
       "      <td>year_week_425_store_10_category_1</td>\n",
       "      <td>0.536428</td>\n",
       "    </tr>\n",
       "    <tr>\n",
       "      <th>2</th>\n",
       "      <td>year_week_425_store_10_category_10</td>\n",
       "      <td>1.694017</td>\n",
       "    </tr>\n",
       "    <tr>\n",
       "      <th>3</th>\n",
       "      <td>year_week_425_store_10_category_11</td>\n",
       "      <td>1.898512</td>\n",
       "    </tr>\n",
       "    <tr>\n",
       "      <th>4</th>\n",
       "      <td>year_week_425_store_10_category_12</td>\n",
       "      <td>6.841830</td>\n",
       "    </tr>\n",
       "    <tr>\n",
       "      <th>...</th>\n",
       "      <td>...</td>\n",
       "      <td>...</td>\n",
       "    </tr>\n",
       "    <tr>\n",
       "      <th>14251</th>\n",
       "      <td>year_week_432_store_9_category_5</td>\n",
       "      <td>0.760796</td>\n",
       "    </tr>\n",
       "    <tr>\n",
       "      <th>14252</th>\n",
       "      <td>year_week_432_store_9_category_6</td>\n",
       "      <td>3.388472</td>\n",
       "    </tr>\n",
       "    <tr>\n",
       "      <th>14253</th>\n",
       "      <td>year_week_432_store_9_category_7</td>\n",
       "      <td>10.727893</td>\n",
       "    </tr>\n",
       "    <tr>\n",
       "      <th>14254</th>\n",
       "      <td>year_week_432_store_9_category_8</td>\n",
       "      <td>6.236538</td>\n",
       "    </tr>\n",
       "    <tr>\n",
       "      <th>14255</th>\n",
       "      <td>year_week_432_store_9_category_9</td>\n",
       "      <td>9.319827</td>\n",
       "    </tr>\n",
       "  </tbody>\n",
       "</table>\n",
       "<p>14256 rows × 2 columns</p>\n",
       "</div>"
      ],
      "text/plain": [
       "                                       ID     target\n",
       "0       year_week_425_store_10_category_0   4.537493\n",
       "1       year_week_425_store_10_category_1   0.536428\n",
       "2      year_week_425_store_10_category_10   1.694017\n",
       "3      year_week_425_store_10_category_11   1.898512\n",
       "4      year_week_425_store_10_category_12   6.841830\n",
       "...                                   ...        ...\n",
       "14251    year_week_432_store_9_category_5   0.760796\n",
       "14252    year_week_432_store_9_category_6   3.388472\n",
       "14253    year_week_432_store_9_category_7  10.727893\n",
       "14254    year_week_432_store_9_category_8   6.236538\n",
       "14255    year_week_432_store_9_category_9   9.319827\n",
       "\n",
       "[14256 rows x 2 columns]"
      ]
     },
     "execution_count": 24,
     "metadata": {},
     "output_type": "execute_result"
    }
   ],
   "source": [
    "submission"
   ]
  },
  {
   "cell_type": "code",
   "execution_count": 25,
   "id": "ddeb6208",
   "metadata": {
    "execution": {
     "iopub.execute_input": "2025-06-04T19:15:15.428736Z",
     "iopub.status.busy": "2025-06-04T19:15:15.428351Z",
     "iopub.status.idle": "2025-06-04T19:15:15.471804Z",
     "shell.execute_reply": "2025-06-04T19:15:15.471160Z"
    },
    "papermill": {
     "duration": 0.059734,
     "end_time": "2025-06-04T19:15:15.472963",
     "exception": false,
     "start_time": "2025-06-04T19:15:15.413229",
     "status": "completed"
    },
    "tags": []
   },
   "outputs": [],
   "source": [
    "# Save to CSV\n",
    "submission.to_csv(\"first_lgbm_submission24.csv\", index=False)"
   ]
  },
  {
   "cell_type": "markdown",
   "id": "80ebc771",
   "metadata": {
    "papermill": {
     "duration": 0.014207,
     "end_time": "2025-06-04T19:15:15.501373",
     "exception": false,
     "start_time": "2025-06-04T19:15:15.487166",
     "status": "completed"
    },
    "tags": []
   },
   "source": [
    "Ermm, my private board score is 0.386 but this code might give you 0.393. Forgive me, I forgot to use random state😂"
   ]
  },
  {
   "cell_type": "markdown",
   "id": "2cea07c9",
   "metadata": {
    "papermill": {
     "duration": 0.01405,
     "end_time": "2025-06-04T19:15:15.529531",
     "exception": false,
     "start_time": "2025-06-04T19:15:15.515481",
     "status": "completed"
    },
    "tags": []
   },
   "source": [
    "And we are done!😂\n",
    "\n",
    "## Don't Just Have A Good Day, Have A Great Day!\n",
    "\n",
    "## Thank You! "
   ]
  }
 ],
 "metadata": {
  "kaggle": {
   "accelerator": "nvidiaTeslaT4",
   "dataSources": [
    {
     "datasetId": 7528204,
     "sourceId": 11971576,
     "sourceType": "datasetVersion"
    },
    {
     "datasetId": 7546866,
     "sourceId": 11997595,
     "sourceType": "datasetVersion"
    }
   ],
   "dockerImageVersionId": 31041,
   "isGpuEnabled": true,
   "isInternetEnabled": true,
   "language": "python",
   "sourceType": "notebook"
  },
  "kernelspec": {
   "display_name": "Python 3",
   "language": "python",
   "name": "python3"
  },
  "language_info": {
   "codemirror_mode": {
    "name": "ipython",
    "version": 3
   },
   "file_extension": ".py",
   "mimetype": "text/x-python",
   "name": "python",
   "nbconvert_exporter": "python",
   "pygments_lexer": "ipython3",
   "version": "3.11.11"
  },
  "papermill": {
   "default_parameters": {},
   "duration": 897.657791,
   "end_time": "2025-06-04T19:15:16.262558",
   "environment_variables": {},
   "exception": null,
   "input_path": "__notebook__.ipynb",
   "output_path": "__notebook__.ipynb",
   "parameters": {},
   "start_time": "2025-06-04T19:00:18.604767",
   "version": "2.6.0"
  }
 },
 "nbformat": 4,
 "nbformat_minor": 5
}
